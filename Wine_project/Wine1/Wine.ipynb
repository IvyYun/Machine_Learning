{
 "cells": [
  {
   "cell_type": "code",
   "execution_count": 1,
   "metadata": {},
   "outputs": [
    {
     "name": "stderr",
     "output_type": "stream",
     "text": [
      "/anaconda2/envs/py36/lib/python3.6/site-packages/sklearn/cross_validation.py:41: DeprecationWarning: This module was deprecated in version 0.18 in favor of the model_selection module into which all the refactored classes and functions are moved. Also note that the interface of the new CV iterators are different from that of this module. This module will be removed in 0.20.\n",
      "  \"This module will be removed in 0.20.\", DeprecationWarning)\n",
      "/anaconda2/envs/py36/lib/python3.6/site-packages/sklearn/grid_search.py:42: DeprecationWarning: This module was deprecated in version 0.18 in favor of the model_selection module into which all the refactored classes and functions are moved. This module will be removed in 0.20.\n",
      "  DeprecationWarning)\n"
     ]
    }
   ],
   "source": [
    "import pandas as pd\n",
    "import numpy as np\n",
    "import scipy.io\n",
    "import matplotlib\n",
    "import matplotlib.pylab as plt\n",
    "import random\n",
    "\n",
    "from sklearn import cross_validation\n",
    "from sklearn.grid_search import GridSearchCV\n",
    "from sklearn.discriminant_analysis import LinearDiscriminantAnalysis\n",
    "\n",
    "from sklearn.model_selection import train_test_split\n",
    "from sklearn.metrics import classification_report, confusion_matrix\n",
    "from sklearn.preprocessing import StandardScaler\n",
    "\n",
    "# To model the decision tree \n",
    "from sklearn.tree import DecisionTreeClassifier\n",
    "# To model the Gaussian Navie Bayes classifier\n",
    "from sklearn.naive_bayes import GaussianNB\n",
    "# To model the KNeighborsClassifier\n",
    "from sklearn.neighbors import KNeighborsClassifier\n",
    "\n",
    "import seaborn as sns"
   ]
  },
  {
   "cell_type": "code",
   "execution_count": 3,
   "metadata": {
    "collapsed": true
   },
   "outputs": [],
   "source": [
    "filename = \"/Users/Wine.txt\"\n",
    "columns = [\"Class\",\"Alcohol\",\"Malic_acid\",\"Ash\",\"Alcal_ash\",\n",
    "           \"Mag\",\"Total_ph\",\"Flav_ph\",\"Nonflav_ph\",\"Proan\", \n",
    "           \"Color_inten\",\"Hue\",\"Diluted\", \"Proline\"]\n",
    "winedata = pd.read_csv(filename, header = None, sep=',',names = columns)"
   ]
  },
  {
   "cell_type": "code",
   "execution_count": 5,
   "metadata": {},
   "outputs": [
    {
     "data": {
      "text/plain": [
       "(178, 14)"
      ]
     },
     "execution_count": 5,
     "metadata": {},
     "output_type": "execute_result"
    }
   ],
   "source": [
    "winedata.shape"
   ]
  },
  {
   "cell_type": "code",
   "execution_count": 6,
   "metadata": {},
   "outputs": [
    {
     "data": {
      "text/html": [
       "<div>\n",
       "<style scoped>\n",
       "    .dataframe tbody tr th:only-of-type {\n",
       "        vertical-align: middle;\n",
       "    }\n",
       "\n",
       "    .dataframe tbody tr th {\n",
       "        vertical-align: top;\n",
       "    }\n",
       "\n",
       "    .dataframe thead th {\n",
       "        text-align: right;\n",
       "    }\n",
       "</style>\n",
       "<table border=\"1\" class=\"dataframe\">\n",
       "  <thead>\n",
       "    <tr style=\"text-align: right;\">\n",
       "      <th></th>\n",
       "      <th>Class</th>\n",
       "      <th>Alcohol</th>\n",
       "      <th>Malic_acid</th>\n",
       "      <th>Ash</th>\n",
       "      <th>Alcal_ash</th>\n",
       "      <th>Mag</th>\n",
       "      <th>Total_ph</th>\n",
       "      <th>Flav_ph</th>\n",
       "      <th>Nonflav_ph</th>\n",
       "      <th>Proan</th>\n",
       "      <th>Color_inten</th>\n",
       "      <th>Hue</th>\n",
       "      <th>Diluted</th>\n",
       "      <th>Proline</th>\n",
       "    </tr>\n",
       "  </thead>\n",
       "  <tbody>\n",
       "    <tr>\n",
       "      <th>0</th>\n",
       "      <td>1</td>\n",
       "      <td>14.23</td>\n",
       "      <td>1.71</td>\n",
       "      <td>2.43</td>\n",
       "      <td>15.6</td>\n",
       "      <td>127</td>\n",
       "      <td>2.80</td>\n",
       "      <td>3.06</td>\n",
       "      <td>0.28</td>\n",
       "      <td>2.29</td>\n",
       "      <td>5.64</td>\n",
       "      <td>1.04</td>\n",
       "      <td>3.92</td>\n",
       "      <td>1065</td>\n",
       "    </tr>\n",
       "    <tr>\n",
       "      <th>1</th>\n",
       "      <td>1</td>\n",
       "      <td>13.20</td>\n",
       "      <td>1.78</td>\n",
       "      <td>2.14</td>\n",
       "      <td>11.2</td>\n",
       "      <td>100</td>\n",
       "      <td>2.65</td>\n",
       "      <td>2.76</td>\n",
       "      <td>0.26</td>\n",
       "      <td>1.28</td>\n",
       "      <td>4.38</td>\n",
       "      <td>1.05</td>\n",
       "      <td>3.40</td>\n",
       "      <td>1050</td>\n",
       "    </tr>\n",
       "    <tr>\n",
       "      <th>2</th>\n",
       "      <td>1</td>\n",
       "      <td>13.16</td>\n",
       "      <td>2.36</td>\n",
       "      <td>2.67</td>\n",
       "      <td>18.6</td>\n",
       "      <td>101</td>\n",
       "      <td>2.80</td>\n",
       "      <td>3.24</td>\n",
       "      <td>0.30</td>\n",
       "      <td>2.81</td>\n",
       "      <td>5.68</td>\n",
       "      <td>1.03</td>\n",
       "      <td>3.17</td>\n",
       "      <td>1185</td>\n",
       "    </tr>\n",
       "    <tr>\n",
       "      <th>3</th>\n",
       "      <td>1</td>\n",
       "      <td>14.37</td>\n",
       "      <td>1.95</td>\n",
       "      <td>2.50</td>\n",
       "      <td>16.8</td>\n",
       "      <td>113</td>\n",
       "      <td>3.85</td>\n",
       "      <td>3.49</td>\n",
       "      <td>0.24</td>\n",
       "      <td>2.18</td>\n",
       "      <td>7.80</td>\n",
       "      <td>0.86</td>\n",
       "      <td>3.45</td>\n",
       "      <td>1480</td>\n",
       "    </tr>\n",
       "    <tr>\n",
       "      <th>4</th>\n",
       "      <td>1</td>\n",
       "      <td>13.24</td>\n",
       "      <td>2.59</td>\n",
       "      <td>2.87</td>\n",
       "      <td>21.0</td>\n",
       "      <td>118</td>\n",
       "      <td>2.80</td>\n",
       "      <td>2.69</td>\n",
       "      <td>0.39</td>\n",
       "      <td>1.82</td>\n",
       "      <td>4.32</td>\n",
       "      <td>1.04</td>\n",
       "      <td>2.93</td>\n",
       "      <td>735</td>\n",
       "    </tr>\n",
       "  </tbody>\n",
       "</table>\n",
       "</div>"
      ],
      "text/plain": [
       "   Class  Alcohol  Malic_acid   Ash  Alcal_ash  Mag  Total_ph  Flav_ph  \\\n",
       "0      1    14.23        1.71  2.43       15.6  127      2.80     3.06   \n",
       "1      1    13.20        1.78  2.14       11.2  100      2.65     2.76   \n",
       "2      1    13.16        2.36  2.67       18.6  101      2.80     3.24   \n",
       "3      1    14.37        1.95  2.50       16.8  113      3.85     3.49   \n",
       "4      1    13.24        2.59  2.87       21.0  118      2.80     2.69   \n",
       "\n",
       "   Nonflav_ph  Proan  Color_inten   Hue  Diluted  Proline  \n",
       "0        0.28   2.29         5.64  1.04     3.92     1065  \n",
       "1        0.26   1.28         4.38  1.05     3.40     1050  \n",
       "2        0.30   2.81         5.68  1.03     3.17     1185  \n",
       "3        0.24   2.18         7.80  0.86     3.45     1480  \n",
       "4        0.39   1.82         4.32  1.04     2.93      735  "
      ]
     },
     "execution_count": 6,
     "metadata": {},
     "output_type": "execute_result"
    }
   ],
   "source": [
    "winedata.head()"
   ]
  },
  {
   "cell_type": "code",
   "execution_count": 8,
   "metadata": {
    "collapsed": true
   },
   "outputs": [],
   "source": [
    "y = winedata['Class']\n",
    "X = winedata.loc[:, 'Alcohol':]"
   ]
  },
  {
   "cell_type": "code",
   "execution_count": 705,
   "metadata": {
    "collapsed": true
   },
   "outputs": [],
   "source": [
    "targetnames = X.columns"
   ]
  },
  {
   "cell_type": "code",
   "execution_count": 666,
   "metadata": {},
   "outputs": [
    {
     "data": {
      "text/html": [
       "<div>\n",
       "<style>\n",
       "    .dataframe thead tr:only-child th {\n",
       "        text-align: right;\n",
       "    }\n",
       "\n",
       "    .dataframe thead th {\n",
       "        text-align: left;\n",
       "    }\n",
       "\n",
       "    .dataframe tbody tr th {\n",
       "        vertical-align: top;\n",
       "    }\n",
       "</style>\n",
       "<table border=\"1\" class=\"dataframe\">\n",
       "  <thead>\n",
       "    <tr style=\"text-align: right;\">\n",
       "      <th></th>\n",
       "      <th>Class</th>\n",
       "      <th>Alcohol</th>\n",
       "      <th>Malic_acid</th>\n",
       "      <th>Ash</th>\n",
       "      <th>Alcal_ash</th>\n",
       "      <th>Mag</th>\n",
       "      <th>Total_ph</th>\n",
       "      <th>Flav_ph</th>\n",
       "      <th>Nonflav_ph</th>\n",
       "      <th>Proan</th>\n",
       "      <th>Color_inten</th>\n",
       "      <th>Hue</th>\n",
       "      <th>Diluted</th>\n",
       "      <th>Proline</th>\n",
       "    </tr>\n",
       "  </thead>\n",
       "  <tbody>\n",
       "    <tr>\n",
       "      <th>count</th>\n",
       "      <td>178.000000</td>\n",
       "      <td>178.000000</td>\n",
       "      <td>178.000000</td>\n",
       "      <td>178.000000</td>\n",
       "      <td>178.000000</td>\n",
       "      <td>178.000000</td>\n",
       "      <td>178.000000</td>\n",
       "      <td>178.000000</td>\n",
       "      <td>178.000000</td>\n",
       "      <td>178.000000</td>\n",
       "      <td>178.000000</td>\n",
       "      <td>178.000000</td>\n",
       "      <td>178.000000</td>\n",
       "      <td>178.000000</td>\n",
       "    </tr>\n",
       "    <tr>\n",
       "      <th>mean</th>\n",
       "      <td>1.938202</td>\n",
       "      <td>13.000618</td>\n",
       "      <td>2.336348</td>\n",
       "      <td>2.366517</td>\n",
       "      <td>19.494944</td>\n",
       "      <td>99.741573</td>\n",
       "      <td>2.295112</td>\n",
       "      <td>2.029270</td>\n",
       "      <td>0.361854</td>\n",
       "      <td>1.590899</td>\n",
       "      <td>5.058090</td>\n",
       "      <td>0.957449</td>\n",
       "      <td>2.611685</td>\n",
       "      <td>746.893258</td>\n",
       "    </tr>\n",
       "    <tr>\n",
       "      <th>std</th>\n",
       "      <td>0.775035</td>\n",
       "      <td>0.811827</td>\n",
       "      <td>1.117146</td>\n",
       "      <td>0.274344</td>\n",
       "      <td>3.339564</td>\n",
       "      <td>14.282484</td>\n",
       "      <td>0.625851</td>\n",
       "      <td>0.998859</td>\n",
       "      <td>0.124453</td>\n",
       "      <td>0.572359</td>\n",
       "      <td>2.318286</td>\n",
       "      <td>0.228572</td>\n",
       "      <td>0.709990</td>\n",
       "      <td>314.907474</td>\n",
       "    </tr>\n",
       "    <tr>\n",
       "      <th>min</th>\n",
       "      <td>1.000000</td>\n",
       "      <td>11.030000</td>\n",
       "      <td>0.740000</td>\n",
       "      <td>1.360000</td>\n",
       "      <td>10.600000</td>\n",
       "      <td>70.000000</td>\n",
       "      <td>0.980000</td>\n",
       "      <td>0.340000</td>\n",
       "      <td>0.130000</td>\n",
       "      <td>0.410000</td>\n",
       "      <td>1.280000</td>\n",
       "      <td>0.480000</td>\n",
       "      <td>1.270000</td>\n",
       "      <td>278.000000</td>\n",
       "    </tr>\n",
       "    <tr>\n",
       "      <th>25%</th>\n",
       "      <td>1.000000</td>\n",
       "      <td>12.362500</td>\n",
       "      <td>1.602500</td>\n",
       "      <td>2.210000</td>\n",
       "      <td>17.200000</td>\n",
       "      <td>88.000000</td>\n",
       "      <td>1.742500</td>\n",
       "      <td>1.205000</td>\n",
       "      <td>0.270000</td>\n",
       "      <td>1.250000</td>\n",
       "      <td>3.220000</td>\n",
       "      <td>0.782500</td>\n",
       "      <td>1.937500</td>\n",
       "      <td>500.500000</td>\n",
       "    </tr>\n",
       "    <tr>\n",
       "      <th>50%</th>\n",
       "      <td>2.000000</td>\n",
       "      <td>13.050000</td>\n",
       "      <td>1.865000</td>\n",
       "      <td>2.360000</td>\n",
       "      <td>19.500000</td>\n",
       "      <td>98.000000</td>\n",
       "      <td>2.355000</td>\n",
       "      <td>2.135000</td>\n",
       "      <td>0.340000</td>\n",
       "      <td>1.555000</td>\n",
       "      <td>4.690000</td>\n",
       "      <td>0.965000</td>\n",
       "      <td>2.780000</td>\n",
       "      <td>673.500000</td>\n",
       "    </tr>\n",
       "    <tr>\n",
       "      <th>75%</th>\n",
       "      <td>3.000000</td>\n",
       "      <td>13.677500</td>\n",
       "      <td>3.082500</td>\n",
       "      <td>2.557500</td>\n",
       "      <td>21.500000</td>\n",
       "      <td>107.000000</td>\n",
       "      <td>2.800000</td>\n",
       "      <td>2.875000</td>\n",
       "      <td>0.437500</td>\n",
       "      <td>1.950000</td>\n",
       "      <td>6.200000</td>\n",
       "      <td>1.120000</td>\n",
       "      <td>3.170000</td>\n",
       "      <td>985.000000</td>\n",
       "    </tr>\n",
       "    <tr>\n",
       "      <th>max</th>\n",
       "      <td>3.000000</td>\n",
       "      <td>14.830000</td>\n",
       "      <td>5.800000</td>\n",
       "      <td>3.230000</td>\n",
       "      <td>30.000000</td>\n",
       "      <td>162.000000</td>\n",
       "      <td>3.880000</td>\n",
       "      <td>5.080000</td>\n",
       "      <td>0.660000</td>\n",
       "      <td>3.580000</td>\n",
       "      <td>13.000000</td>\n",
       "      <td>1.710000</td>\n",
       "      <td>4.000000</td>\n",
       "      <td>1680.000000</td>\n",
       "    </tr>\n",
       "  </tbody>\n",
       "</table>\n",
       "</div>"
      ],
      "text/plain": [
       "            Class     Alcohol  Malic_acid         Ash   Alcal_ash         Mag  \\\n",
       "count  178.000000  178.000000  178.000000  178.000000  178.000000  178.000000   \n",
       "mean     1.938202   13.000618    2.336348    2.366517   19.494944   99.741573   \n",
       "std      0.775035    0.811827    1.117146    0.274344    3.339564   14.282484   \n",
       "min      1.000000   11.030000    0.740000    1.360000   10.600000   70.000000   \n",
       "25%      1.000000   12.362500    1.602500    2.210000   17.200000   88.000000   \n",
       "50%      2.000000   13.050000    1.865000    2.360000   19.500000   98.000000   \n",
       "75%      3.000000   13.677500    3.082500    2.557500   21.500000  107.000000   \n",
       "max      3.000000   14.830000    5.800000    3.230000   30.000000  162.000000   \n",
       "\n",
       "         Total_ph     Flav_ph  Nonflav_ph       Proan  Color_inten  \\\n",
       "count  178.000000  178.000000  178.000000  178.000000   178.000000   \n",
       "mean     2.295112    2.029270    0.361854    1.590899     5.058090   \n",
       "std      0.625851    0.998859    0.124453    0.572359     2.318286   \n",
       "min      0.980000    0.340000    0.130000    0.410000     1.280000   \n",
       "25%      1.742500    1.205000    0.270000    1.250000     3.220000   \n",
       "50%      2.355000    2.135000    0.340000    1.555000     4.690000   \n",
       "75%      2.800000    2.875000    0.437500    1.950000     6.200000   \n",
       "max      3.880000    5.080000    0.660000    3.580000    13.000000   \n",
       "\n",
       "              Hue     Diluted      Proline  \n",
       "count  178.000000  178.000000   178.000000  \n",
       "mean     0.957449    2.611685   746.893258  \n",
       "std      0.228572    0.709990   314.907474  \n",
       "min      0.480000    1.270000   278.000000  \n",
       "25%      0.782500    1.937500   500.500000  \n",
       "50%      0.965000    2.780000   673.500000  \n",
       "75%      1.120000    3.170000   985.000000  \n",
       "max      1.710000    4.000000  1680.000000  "
      ]
     },
     "execution_count": 666,
     "metadata": {},
     "output_type": "execute_result"
    }
   ],
   "source": [
    "winedata.describe()"
   ]
  },
  {
   "cell_type": "code",
   "execution_count": 667,
   "metadata": {},
   "outputs": [
    {
     "data": {
      "text/plain": [
       "2    71\n",
       "1    59\n",
       "3    48\n",
       "Name: Class, dtype: int64"
      ]
     },
     "execution_count": 667,
     "metadata": {},
     "output_type": "execute_result"
    }
   ],
   "source": [
    "y.value_counts()"
   ]
  },
  {
   "cell_type": "code",
   "execution_count": 756,
   "metadata": {},
   "outputs": [
    {
     "data": {
      "text/html": [
       "<div>\n",
       "<style>\n",
       "    .dataframe thead tr:only-child th {\n",
       "        text-align: right;\n",
       "    }\n",
       "\n",
       "    .dataframe thead th {\n",
       "        text-align: left;\n",
       "    }\n",
       "\n",
       "    .dataframe tbody tr th {\n",
       "        vertical-align: top;\n",
       "    }\n",
       "</style>\n",
       "<table border=\"1\" class=\"dataframe\">\n",
       "  <thead>\n",
       "    <tr style=\"text-align: right;\">\n",
       "      <th></th>\n",
       "      <th>Class</th>\n",
       "      <th>Alcohol</th>\n",
       "      <th>Malic_acid</th>\n",
       "      <th>Ash</th>\n",
       "      <th>Alcal_ash</th>\n",
       "      <th>Mag</th>\n",
       "      <th>Total_ph</th>\n",
       "      <th>Flav_ph</th>\n",
       "      <th>Nonflav_ph</th>\n",
       "      <th>Proan</th>\n",
       "      <th>Color_inten</th>\n",
       "      <th>Hue</th>\n",
       "      <th>Diluted</th>\n",
       "      <th>Proline</th>\n",
       "    </tr>\n",
       "  </thead>\n",
       "  <tbody>\n",
       "    <tr>\n",
       "      <th>Class</th>\n",
       "      <td>1.000000</td>\n",
       "      <td>-0.328222</td>\n",
       "      <td>0.437776</td>\n",
       "      <td>-0.049643</td>\n",
       "      <td>0.517859</td>\n",
       "      <td>-0.209179</td>\n",
       "      <td>-0.719163</td>\n",
       "      <td>-0.847498</td>\n",
       "      <td>0.489109</td>\n",
       "      <td>-0.499130</td>\n",
       "      <td>0.265668</td>\n",
       "      <td>-0.617369</td>\n",
       "      <td>-0.788230</td>\n",
       "      <td>-0.633717</td>\n",
       "    </tr>\n",
       "    <tr>\n",
       "      <th>Alcohol</th>\n",
       "      <td>-0.328222</td>\n",
       "      <td>1.000000</td>\n",
       "      <td>0.094397</td>\n",
       "      <td>0.211545</td>\n",
       "      <td>-0.310235</td>\n",
       "      <td>0.270798</td>\n",
       "      <td>0.289101</td>\n",
       "      <td>0.236815</td>\n",
       "      <td>-0.155929</td>\n",
       "      <td>0.136698</td>\n",
       "      <td>0.546364</td>\n",
       "      <td>-0.071747</td>\n",
       "      <td>0.072343</td>\n",
       "      <td>0.643720</td>\n",
       "    </tr>\n",
       "    <tr>\n",
       "      <th>Malic_acid</th>\n",
       "      <td>0.437776</td>\n",
       "      <td>0.094397</td>\n",
       "      <td>1.000000</td>\n",
       "      <td>0.164045</td>\n",
       "      <td>0.288500</td>\n",
       "      <td>-0.054575</td>\n",
       "      <td>-0.335167</td>\n",
       "      <td>-0.411007</td>\n",
       "      <td>0.292977</td>\n",
       "      <td>-0.220746</td>\n",
       "      <td>0.248985</td>\n",
       "      <td>-0.561296</td>\n",
       "      <td>-0.368710</td>\n",
       "      <td>-0.192011</td>\n",
       "    </tr>\n",
       "    <tr>\n",
       "      <th>Ash</th>\n",
       "      <td>-0.049643</td>\n",
       "      <td>0.211545</td>\n",
       "      <td>0.164045</td>\n",
       "      <td>1.000000</td>\n",
       "      <td>0.443367</td>\n",
       "      <td>0.286587</td>\n",
       "      <td>0.128980</td>\n",
       "      <td>0.115077</td>\n",
       "      <td>0.186230</td>\n",
       "      <td>0.009652</td>\n",
       "      <td>0.258887</td>\n",
       "      <td>-0.074667</td>\n",
       "      <td>0.003911</td>\n",
       "      <td>0.223626</td>\n",
       "    </tr>\n",
       "    <tr>\n",
       "      <th>Alcal_ash</th>\n",
       "      <td>0.517859</td>\n",
       "      <td>-0.310235</td>\n",
       "      <td>0.288500</td>\n",
       "      <td>0.443367</td>\n",
       "      <td>1.000000</td>\n",
       "      <td>-0.083333</td>\n",
       "      <td>-0.321113</td>\n",
       "      <td>-0.351370</td>\n",
       "      <td>0.361922</td>\n",
       "      <td>-0.197327</td>\n",
       "      <td>0.018732</td>\n",
       "      <td>-0.273955</td>\n",
       "      <td>-0.276769</td>\n",
       "      <td>-0.440597</td>\n",
       "    </tr>\n",
       "    <tr>\n",
       "      <th>Mag</th>\n",
       "      <td>-0.209179</td>\n",
       "      <td>0.270798</td>\n",
       "      <td>-0.054575</td>\n",
       "      <td>0.286587</td>\n",
       "      <td>-0.083333</td>\n",
       "      <td>1.000000</td>\n",
       "      <td>0.214401</td>\n",
       "      <td>0.195784</td>\n",
       "      <td>-0.256294</td>\n",
       "      <td>0.236441</td>\n",
       "      <td>0.199950</td>\n",
       "      <td>0.055398</td>\n",
       "      <td>0.066004</td>\n",
       "      <td>0.393351</td>\n",
       "    </tr>\n",
       "    <tr>\n",
       "      <th>Total_ph</th>\n",
       "      <td>-0.719163</td>\n",
       "      <td>0.289101</td>\n",
       "      <td>-0.335167</td>\n",
       "      <td>0.128980</td>\n",
       "      <td>-0.321113</td>\n",
       "      <td>0.214401</td>\n",
       "      <td>1.000000</td>\n",
       "      <td>0.864564</td>\n",
       "      <td>-0.449935</td>\n",
       "      <td>0.612413</td>\n",
       "      <td>-0.055136</td>\n",
       "      <td>0.433681</td>\n",
       "      <td>0.699949</td>\n",
       "      <td>0.498115</td>\n",
       "    </tr>\n",
       "    <tr>\n",
       "      <th>Flav_ph</th>\n",
       "      <td>-0.847498</td>\n",
       "      <td>0.236815</td>\n",
       "      <td>-0.411007</td>\n",
       "      <td>0.115077</td>\n",
       "      <td>-0.351370</td>\n",
       "      <td>0.195784</td>\n",
       "      <td>0.864564</td>\n",
       "      <td>1.000000</td>\n",
       "      <td>-0.537900</td>\n",
       "      <td>0.652692</td>\n",
       "      <td>-0.172379</td>\n",
       "      <td>0.543479</td>\n",
       "      <td>0.787194</td>\n",
       "      <td>0.494193</td>\n",
       "    </tr>\n",
       "    <tr>\n",
       "      <th>Nonflav_ph</th>\n",
       "      <td>0.489109</td>\n",
       "      <td>-0.155929</td>\n",
       "      <td>0.292977</td>\n",
       "      <td>0.186230</td>\n",
       "      <td>0.361922</td>\n",
       "      <td>-0.256294</td>\n",
       "      <td>-0.449935</td>\n",
       "      <td>-0.537900</td>\n",
       "      <td>1.000000</td>\n",
       "      <td>-0.365845</td>\n",
       "      <td>0.139057</td>\n",
       "      <td>-0.262640</td>\n",
       "      <td>-0.503270</td>\n",
       "      <td>-0.311385</td>\n",
       "    </tr>\n",
       "    <tr>\n",
       "      <th>Proan</th>\n",
       "      <td>-0.499130</td>\n",
       "      <td>0.136698</td>\n",
       "      <td>-0.220746</td>\n",
       "      <td>0.009652</td>\n",
       "      <td>-0.197327</td>\n",
       "      <td>0.236441</td>\n",
       "      <td>0.612413</td>\n",
       "      <td>0.652692</td>\n",
       "      <td>-0.365845</td>\n",
       "      <td>1.000000</td>\n",
       "      <td>-0.025250</td>\n",
       "      <td>0.295544</td>\n",
       "      <td>0.519067</td>\n",
       "      <td>0.330417</td>\n",
       "    </tr>\n",
       "    <tr>\n",
       "      <th>Color_inten</th>\n",
       "      <td>0.265668</td>\n",
       "      <td>0.546364</td>\n",
       "      <td>0.248985</td>\n",
       "      <td>0.258887</td>\n",
       "      <td>0.018732</td>\n",
       "      <td>0.199950</td>\n",
       "      <td>-0.055136</td>\n",
       "      <td>-0.172379</td>\n",
       "      <td>0.139057</td>\n",
       "      <td>-0.025250</td>\n",
       "      <td>1.000000</td>\n",
       "      <td>-0.521813</td>\n",
       "      <td>-0.428815</td>\n",
       "      <td>0.316100</td>\n",
       "    </tr>\n",
       "    <tr>\n",
       "      <th>Hue</th>\n",
       "      <td>-0.617369</td>\n",
       "      <td>-0.071747</td>\n",
       "      <td>-0.561296</td>\n",
       "      <td>-0.074667</td>\n",
       "      <td>-0.273955</td>\n",
       "      <td>0.055398</td>\n",
       "      <td>0.433681</td>\n",
       "      <td>0.543479</td>\n",
       "      <td>-0.262640</td>\n",
       "      <td>0.295544</td>\n",
       "      <td>-0.521813</td>\n",
       "      <td>1.000000</td>\n",
       "      <td>0.565468</td>\n",
       "      <td>0.236183</td>\n",
       "    </tr>\n",
       "    <tr>\n",
       "      <th>Diluted</th>\n",
       "      <td>-0.788230</td>\n",
       "      <td>0.072343</td>\n",
       "      <td>-0.368710</td>\n",
       "      <td>0.003911</td>\n",
       "      <td>-0.276769</td>\n",
       "      <td>0.066004</td>\n",
       "      <td>0.699949</td>\n",
       "      <td>0.787194</td>\n",
       "      <td>-0.503270</td>\n",
       "      <td>0.519067</td>\n",
       "      <td>-0.428815</td>\n",
       "      <td>0.565468</td>\n",
       "      <td>1.000000</td>\n",
       "      <td>0.312761</td>\n",
       "    </tr>\n",
       "    <tr>\n",
       "      <th>Proline</th>\n",
       "      <td>-0.633717</td>\n",
       "      <td>0.643720</td>\n",
       "      <td>-0.192011</td>\n",
       "      <td>0.223626</td>\n",
       "      <td>-0.440597</td>\n",
       "      <td>0.393351</td>\n",
       "      <td>0.498115</td>\n",
       "      <td>0.494193</td>\n",
       "      <td>-0.311385</td>\n",
       "      <td>0.330417</td>\n",
       "      <td>0.316100</td>\n",
       "      <td>0.236183</td>\n",
       "      <td>0.312761</td>\n",
       "      <td>1.000000</td>\n",
       "    </tr>\n",
       "  </tbody>\n",
       "</table>\n",
       "</div>"
      ],
      "text/plain": [
       "                Class   Alcohol  Malic_acid       Ash  Alcal_ash       Mag  \\\n",
       "Class        1.000000 -0.328222    0.437776 -0.049643   0.517859 -0.209179   \n",
       "Alcohol     -0.328222  1.000000    0.094397  0.211545  -0.310235  0.270798   \n",
       "Malic_acid   0.437776  0.094397    1.000000  0.164045   0.288500 -0.054575   \n",
       "Ash         -0.049643  0.211545    0.164045  1.000000   0.443367  0.286587   \n",
       "Alcal_ash    0.517859 -0.310235    0.288500  0.443367   1.000000 -0.083333   \n",
       "Mag         -0.209179  0.270798   -0.054575  0.286587  -0.083333  1.000000   \n",
       "Total_ph    -0.719163  0.289101   -0.335167  0.128980  -0.321113  0.214401   \n",
       "Flav_ph     -0.847498  0.236815   -0.411007  0.115077  -0.351370  0.195784   \n",
       "Nonflav_ph   0.489109 -0.155929    0.292977  0.186230   0.361922 -0.256294   \n",
       "Proan       -0.499130  0.136698   -0.220746  0.009652  -0.197327  0.236441   \n",
       "Color_inten  0.265668  0.546364    0.248985  0.258887   0.018732  0.199950   \n",
       "Hue         -0.617369 -0.071747   -0.561296 -0.074667  -0.273955  0.055398   \n",
       "Diluted     -0.788230  0.072343   -0.368710  0.003911  -0.276769  0.066004   \n",
       "Proline     -0.633717  0.643720   -0.192011  0.223626  -0.440597  0.393351   \n",
       "\n",
       "             Total_ph   Flav_ph  Nonflav_ph     Proan  Color_inten       Hue  \\\n",
       "Class       -0.719163 -0.847498    0.489109 -0.499130     0.265668 -0.617369   \n",
       "Alcohol      0.289101  0.236815   -0.155929  0.136698     0.546364 -0.071747   \n",
       "Malic_acid  -0.335167 -0.411007    0.292977 -0.220746     0.248985 -0.561296   \n",
       "Ash          0.128980  0.115077    0.186230  0.009652     0.258887 -0.074667   \n",
       "Alcal_ash   -0.321113 -0.351370    0.361922 -0.197327     0.018732 -0.273955   \n",
       "Mag          0.214401  0.195784   -0.256294  0.236441     0.199950  0.055398   \n",
       "Total_ph     1.000000  0.864564   -0.449935  0.612413    -0.055136  0.433681   \n",
       "Flav_ph      0.864564  1.000000   -0.537900  0.652692    -0.172379  0.543479   \n",
       "Nonflav_ph  -0.449935 -0.537900    1.000000 -0.365845     0.139057 -0.262640   \n",
       "Proan        0.612413  0.652692   -0.365845  1.000000    -0.025250  0.295544   \n",
       "Color_inten -0.055136 -0.172379    0.139057 -0.025250     1.000000 -0.521813   \n",
       "Hue          0.433681  0.543479   -0.262640  0.295544    -0.521813  1.000000   \n",
       "Diluted      0.699949  0.787194   -0.503270  0.519067    -0.428815  0.565468   \n",
       "Proline      0.498115  0.494193   -0.311385  0.330417     0.316100  0.236183   \n",
       "\n",
       "              Diluted   Proline  \n",
       "Class       -0.788230 -0.633717  \n",
       "Alcohol      0.072343  0.643720  \n",
       "Malic_acid  -0.368710 -0.192011  \n",
       "Ash          0.003911  0.223626  \n",
       "Alcal_ash   -0.276769 -0.440597  \n",
       "Mag          0.066004  0.393351  \n",
       "Total_ph     0.699949  0.498115  \n",
       "Flav_ph      0.787194  0.494193  \n",
       "Nonflav_ph  -0.503270 -0.311385  \n",
       "Proan        0.519067  0.330417  \n",
       "Color_inten -0.428815  0.316100  \n",
       "Hue          0.565468  0.236183  \n",
       "Diluted      1.000000  0.312761  \n",
       "Proline      0.312761  1.000000  "
      ]
     },
     "execution_count": 756,
     "metadata": {},
     "output_type": "execute_result"
    }
   ],
   "source": [
    "winedata.corr()"
   ]
  },
  {
   "cell_type": "code",
   "execution_count": 600,
   "metadata": {
    "collapsed": true
   },
   "outputs": [],
   "source": [
    "randomfeatures=np.random.choice(winedata.columns.drop('Class'),2)"
   ]
  },
  {
   "cell_type": "code",
   "execution_count": 161,
   "metadata": {},
   "outputs": [
    {
     "data": {
      "text/plain": [
       "array(['Total_ph', 'Alcohol'], dtype=object)"
      ]
     },
     "execution_count": 161,
     "metadata": {},
     "output_type": "execute_result"
    }
   ],
   "source": [
    "randomfeatures"
   ]
  },
  {
   "cell_type": "code",
   "execution_count": 721,
   "metadata": {},
   "outputs": [
    {
     "data": {
      "image/png": "[encoded data removed]",
      "text/plain": [
       "<matplotlib.figure.Figure at 0x1a14905450>"
      ]
     },
     "metadata": {},
     "output_type": "display_data"
    }
   ],
   "source": [
    "plt.scatter(X[y==1]['Alcohol'], X[y==1]['Total_ph'], label='Class 1', c='Pink')\n",
    "plt.scatter(X[y==2]['Alcohol'], X[y==2]['Total_ph'], label='Class 2', c='Green')\n",
    "plt.scatter(X[y==3]['Alcohol'], X[y==3]['Total_ph'], label='Class 3', c='Gold')\n",
    "\n",
    "plt.legend(loc=\"lower right\")\n",
    "plt.title(\"Wine Data\")\n",
    "plt.xlabel('Alcohol')\n",
    "plt.ylabel('Total_ph')\n",
    "\n",
    "plt.show()"
   ]
  },
  {
   "cell_type": "code",
   "execution_count": 779,
   "metadata": {},
   "outputs": [
    {
     "data": {
      "text/plain": [
       "DecisionTreeClassifier(class_weight=None, criterion='gini', max_depth=4,\n",
       "            max_features=None, max_leaf_nodes=None,\n",
       "            min_impurity_decrease=0.0, min_impurity_split=None,\n",
       "            min_samples_leaf=2, min_samples_split=6,\n",
       "            min_weight_fraction_leaf=0.0, presort=False, random_state=100,\n",
       "            splitter='best')"
      ]
     },
     "execution_count": 779,
     "metadata": {},
     "output_type": "execute_result"
    }
   ],
   "source": [
    "DTree1 = DecisionTreeClassifier(min_samples_split=6,max_depth=4,\n",
    "                                min_samples_leaf=2,random_state=100)\n",
    "DTree1.fit(X_train,y_train)"
   ]
  },
  {
   "cell_type": "code",
   "execution_count": 780,
   "metadata": {},
   "outputs": [
    {
     "name": "stdout",
     "output_type": "stream",
     "text": [
      "('Alcohol', 0.015695067264574022)\n",
      "('Malic_acid', 0.035874439461883401)\n",
      "('Ash', 0.0)\n",
      "('Alcal_ash', 0.0)\n",
      "('Mag', 0.0)\n",
      "('Total_ph', 0.0)\n",
      "('Flav_ph', 0.45101488531504752)\n",
      "('Nonflav_ph', 0.0)\n",
      "('Proan', 0.0)\n",
      "('Color_inten', 0.0)\n",
      "('Hue', 0.048919690175295558)\n",
      "('Diluted', 0.0)\n",
      "('Proline', 0.44849591778319936)\n"
     ]
    }
   ],
   "source": [
    "for name, importance in zip(targetnames, DTree1.feature_importances_):\n",
    "    print(name, importance)"
   ]
  },
  {
   "cell_type": "markdown",
   "metadata": {},
   "source": [
    "### Above result shows that feature Flav_ph and Proline are the two most relevant variables in the dataset."
   ]
  },
  {
   "cell_type": "code",
   "execution_count": 793,
   "metadata": {},
   "outputs": [
    {
     "data": {
      "image/png": "[encoded data removed]",
      "text/plain": [
       "<matplotlib.figure.Figure at 0x1a17987cd0>"
      ]
     },
     "metadata": {},
     "output_type": "display_data"
    }
   ],
   "source": [
    "sns.lmplot('Proline','Flav_ph',data=winedata,hue='Class', fit_reg=False)\n",
    "plt.title('Wine Data')\n",
    "plt.show()"
   ]
  },
  {
   "cell_type": "markdown",
   "metadata": {},
   "source": [
    "### Class 1 wine has higher Alcohol and higher Total_ph in comparison to the other 2 classes, Class 2 wine has lower Alcohol and lower Total_ph, and Class 3 wine has higher Alcohol and lower Total_ph."
   ]
  },
  {
   "cell_type": "code",
   "execution_count": 55,
   "metadata": {
    "collapsed": true
   },
   "outputs": [],
   "source": [
    "#winedata.to_csv(\"/Users/winedata.csv\")"
   ]
  },
  {
   "cell_type": "markdown",
   "metadata": {},
   "source": [
    "winedata.isnull().sum()\n",
    "#winedata.duplicated().sum()"
   ]
  },
  {
   "cell_type": "code",
   "execution_count": 602,
   "metadata": {},
   "outputs": [
    {
     "name": "stdout",
     "output_type": "stream",
     "text": [
      "117 61\n"
     ]
    }
   ],
   "source": [
    "wine_train, wine_test = train_test_split(winedata,test_size = 0.34,random_state=100)\n",
    "print len(wine_train), len(wine_test)"
   ]
  },
  {
   "cell_type": "code",
   "execution_count": 768,
   "metadata": {
    "collapsed": true
   },
   "outputs": [],
   "source": [
    "X_train, y_train = wine_train[wine_train.columns.drop('Class')], wine_train['Class']\n",
    "X_test, y_test = wine_test[wine_test.columns.drop('Class')], wine_test['Class']"
   ]
  },
  {
   "cell_type": "markdown",
   "metadata": {},
   "source": [
    "#### another way to split\n",
    "X_train, X_test, y_train, y_test = train_test_split(winedata,y,\n",
    "                                                    test_size = 0.34,\n",
    "                                                    random_state=100)"
   ]
  },
  {
   "cell_type": "code",
   "execution_count": 604,
   "metadata": {
    "collapsed": true
   },
   "outputs": [],
   "source": [
    "# normalized the data\n",
    "scaler = StandardScaler()\n",
    "scaler.fit(X_train)\n",
    "X_train = scaler.transform(X_train)\n",
    "X_test = scaler.transform(X_test)"
   ]
  },
  {
   "cell_type": "code",
   "execution_count": 303,
   "metadata": {},
   "outputs": [
    {
     "data": {
      "text/plain": [
       "(1.0575933111082487, -2.4058481848550399e-16)"
      ]
     },
     "execution_count": 303,
     "metadata": {},
     "output_type": "execute_result"
    }
   ],
   "source": [
    "X_test.std(),X_train.mean()"
   ]
  },
  {
   "cell_type": "code",
   "execution_count": 765,
   "metadata": {
    "collapsed": true
   },
   "outputs": [],
   "source": [
    "param_grid = {'criterion':['gini','entropy'],'max_depth': np.arange(2, 10), \n",
    "              'min_samples_split':np.arange(2,10),'min_samples_leaf':np.arange(2,10)}"
   ]
  },
  {
   "cell_type": "code",
   "execution_count": 766,
   "metadata": {},
   "outputs": [
    {
     "data": {
      "text/plain": [
       "{'criterion': 'gini',\n",
       " 'max_depth': 4,\n",
       " 'min_samples_leaf': 2,\n",
       " 'min_samples_split': 6}"
      ]
     },
     "execution_count": 766,
     "metadata": {},
     "output_type": "execute_result"
    }
   ],
   "source": [
    "# use GridSearch to find the best parameters \n",
    "gs_tree = GridSearchCV(DTree, param_grid, cv=10)\n",
    "gs_tree.fit(X_train,y_train)\n",
    "gs_tree.best_params_"
   ]
  },
  {
   "cell_type": "code",
   "execution_count": 1,
   "metadata": {},
   "outputs": [
    {
     "ename": "NameError",
     "evalue": "name 'DecisionTreeClassifier' is not defined",
     "output_type": "error",
     "traceback": [
      "\u001b[0;31m---------------------------------------------------------------------------\u001b[0m",
      "\u001b[0;31mNameError\u001b[0m                                 Traceback (most recent call last)",
      "\u001b[0;32m<ipython-input-1-fb80fd5d82a5>\u001b[0m in \u001b[0;36m<module>\u001b[0;34m()\u001b[0m\n\u001b[0;32m----> 1\u001b[0;31m \u001b[0mDTree\u001b[0m \u001b[0;34m=\u001b[0m \u001b[0mDecisionTreeClassifier\u001b[0m\u001b[0;34m(\u001b[0m\u001b[0;34m)\u001b[0m\u001b[0;34m\u001b[0m\u001b[0m\n\u001b[0m",
      "\u001b[0;31mNameError\u001b[0m: name 'DecisionTreeClassifier' is not defined"
     ]
    }
   ],
   "source": [
    "DTree = DecisionTreeClassifier()"
   ]
  },
  {
   "cell_type": "code",
   "execution_count": 769,
   "metadata": {
    "collapsed": true
   },
   "outputs": [],
   "source": [
    "DTree1 = DecisionTreeClassifier(min_samples_split=6,max_depth=4,\n",
    "                                min_samples_leaf=2,random_state=100)\n",
    "DTree1.fit(X_train,y_train)\n",
    "y_pred_tree1 = DTree1.predict(X_test)"
   ]
  },
  {
   "cell_type": "code",
   "execution_count": 771,
   "metadata": {},
   "outputs": [
    {
     "name": "stdout",
     "output_type": "stream",
     "text": [
      "Accuracy of Decision Tree on training set: 0.99\n",
      "Accuracy of Decision Tree on test set: 0.84\n"
     ]
    }
   ],
   "source": [
    "print('Accuracy of Decision Tree on training set: {:.2f}'.format(DTree1.score(X_train,y_train)))\n",
    "print('Accuracy of Decision Tree on test set: {:.2f}'.format(DTree1.score(X_test,y_test)))\n"
   ]
  },
  {
   "cell_type": "code",
   "execution_count": 772,
   "metadata": {},
   "outputs": [
    {
     "name": "stdout",
     "output_type": "stream",
     "text": [
      "             precision    recall  f1-score   support\n",
      "\n",
      "          1       0.80      1.00      0.89        16\n",
      "          2       0.81      0.77      0.79        22\n",
      "          3       0.90      0.78      0.84        23\n",
      "\n",
      "avg / total       0.84      0.84      0.83        61\n",
      "\n"
     ]
    }
   ],
   "source": [
    "print(metrics.classification_report(y_test, y_pred_tree1))"
   ]
  },
  {
   "cell_type": "code",
   "execution_count": 637,
   "metadata": {
    "collapsed": true
   },
   "outputs": [],
   "source": [
    "# Gaussian Navie Bayes classifier\n",
    "NB = GaussianNB()\n",
    "NB.fit(X_train, y_train)\n",
    "NB_train_pre = NB.predict(X_train)\n",
    "NB_test_pre = NB.predict(X_test)"
   ]
  },
  {
   "cell_type": "code",
   "execution_count": 638,
   "metadata": {},
   "outputs": [
    {
     "name": "stdout",
     "output_type": "stream",
     "text": [
      "The accuracy on training data set is 0.974358974359\n",
      "\n",
      "The accuracy on training data set is 0.967213114754\n"
     ]
    }
   ],
   "source": [
    "print \"The accuracy on training data set is\" ,metrics.accuracy_score(y_train, NB_train_pre)\n",
    "print \"\"\n",
    "print \"The accuracy on training data set is\" ,metrics.accuracy_score(y_test, NB_test_pre)\n"
   ]
  },
  {
   "cell_type": "code",
   "execution_count": 570,
   "metadata": {
    "collapsed": true
   },
   "outputs": [],
   "source": [
    "# KNeighborsClassifier\n",
    "KNN1 = KNeighborsClassifier(leaf_size=30, metric='minkowski',\n",
    "           metric_params=None, n_jobs=1, n_neighbors=1, p=2,\n",
    "           weights='uniform')\n",
    "KNN3 = KNeighborsClassifier(leaf_size=30, metric='minkowski',\n",
    "           metric_params=None, n_jobs=1, n_neighbors=3, p=2,\n",
    "           weights='uniform')\n",
    "KNN5 = KNeighborsClassifier(leaf_size=30, metric='minkowski',\n",
    "           metric_params=None, n_jobs=1, n_neighbors=5, p=2,\n",
    "           weights='uniform')\n",
    "\n",
    "KNN1.fit(X_train, y_train)\n",
    "KNN3.fit(X_train, y_train)\n",
    "KNN5.fit(X_train, y_train)\n",
    "#Predicting the test set results \n",
    "y_pred_KNN1_test = KNN1.predict(X_test)\n",
    "y_pred_KNN3_test = KNN3.predict(X_test)\n",
    "y_pred_KNN5_test = KNN5.predict(X_test)\n",
    "\n",
    "y_pred_KNN1_train = KNN1.predict(X_train)\n",
    "y_pred_KNN3_train = KNN3.predict(X_train)\n",
    "y_pred_KNN5_train = KNN5.predict(X_train)\n"
   ]
  },
  {
   "cell_type": "code",
   "execution_count": 656,
   "metadata": {
    "collapsed": true
   },
   "outputs": [],
   "source": [
    "distances1,indices1 = KNN1.kneighbors(X_test)\n",
    "distances3,indices3 = KNN3.kneighbors(X_test)\n",
    "distances5,indices = KNN5.kneighbors(X_test)"
   ]
  },
  {
   "cell_type": "code",
   "execution_count": 659,
   "metadata": {},
   "outputs": [
    {
     "data": {
      "text/plain": [
       "array([[ 1.52655856,  1.96544883,  1.97177464,  2.07537437,  2.07624117],\n",
       "       [ 3.03179177,  3.0848066 ,  3.25523429,  3.3720388 ,  3.46190358],\n",
       "       [ 1.58202767,  1.86996257,  1.87878964,  1.94303681,  2.08103058],\n",
       "       [ 2.41884545,  2.65464368,  2.66745392,  2.70140569,  2.73959695],\n",
       "       [ 4.06919807,  4.15319158,  4.1813769 ,  4.24585255,  4.51873723],\n",
       "       [ 1.74854305,  2.20383303,  2.22787451,  2.36695425,  2.45851194],\n",
       "       [ 2.8073426 ,  2.90394205,  3.29483944,  3.65375857,  3.704228  ],\n",
       "       [ 3.37946033,  3.92108576,  3.92856898,  3.93952926,  4.20837052],\n",
       "       [ 1.5107332 ,  1.86667494,  2.05135891,  2.09654436,  2.46056436],\n",
       "       [ 3.15036844,  4.91479088,  4.94038497,  5.41644711,  5.43842188],\n",
       "       [ 1.78275896,  2.37460455,  2.46079427,  2.70024115,  3.11222833],\n",
       "       [ 2.1286185 ,  2.46282905,  2.59207436,  2.60033796,  2.6124828 ],\n",
       "       [ 1.90836721,  2.14520149,  2.27670668,  2.32914525,  2.49762522],\n",
       "       [ 1.55744343,  2.00967854,  2.09374039,  2.10073397,  2.17836337],\n",
       "       [ 2.47398559,  2.48492247,  3.28182463,  3.33690208,  3.3582818 ],\n",
       "       [ 1.25256656,  1.57095277,  1.77577833,  2.10169879,  2.16862183],\n",
       "       [ 2.41132134,  2.51999881,  2.57792463,  2.69133156,  2.70878789],\n",
       "       [ 1.84346061,  1.89983243,  2.20452205,  2.34570522,  2.40878341],\n",
       "       [ 2.68529239,  2.70998281,  3.08840568,  3.10210732,  3.16365348],\n",
       "       [ 1.84010325,  2.27320843,  2.50044326,  2.6553294 ,  2.7411708 ],\n",
       "       [ 2.5736656 ,  2.76852781,  2.97982012,  3.01720665,  3.11744279],\n",
       "       [ 1.96565747,  1.96710236,  2.02014665,  2.12666292,  2.22306713],\n",
       "       [ 2.61673883,  2.96694793,  3.04289264,  3.1020253 ,  3.22211542],\n",
       "       [ 1.25321189,  1.69165582,  2.471496  ,  2.53721834,  2.54303618],\n",
       "       [ 1.3185595 ,  1.90965014,  1.95795126,  2.13381452,  2.20272692],\n",
       "       [ 1.89413558,  2.27181211,  2.2862429 ,  2.55246565,  2.5579757 ],\n",
       "       [ 2.27002514,  2.32540112,  2.57821802,  2.64640542,  2.80492665],\n",
       "       [ 1.71174535,  2.05324821,  2.09047173,  2.12379573,  2.3059081 ],\n",
       "       [ 2.17664084,  2.64754546,  2.68216388,  2.73948879,  2.85242154],\n",
       "       [ 2.11247576,  2.12410903,  2.14033417,  2.32994016,  2.36118042],\n",
       "       [ 1.57885813,  1.74044104,  1.76265563,  2.07740121,  2.11163949],\n",
       "       [ 2.82603853,  5.02375974,  5.06841746,  5.159926  ,  5.23634069],\n",
       "       [ 1.46750132,  1.84231564,  1.91227246,  2.03110674,  2.05418053],\n",
       "       [ 1.62927868,  2.05126677,  2.05525582,  2.0940026 ,  2.10494677],\n",
       "       [ 2.74777723,  2.87759521,  2.92338607,  3.21513083,  3.29539209],\n",
       "       [ 2.76434719,  2.78998292,  2.82859997,  2.87595884,  2.92962342],\n",
       "       [ 1.44011351,  2.02138351,  2.21122946,  2.22002905,  2.2254078 ],\n",
       "       [ 2.14951995,  2.23411634,  2.24337142,  2.28300753,  2.370029  ],\n",
       "       [ 2.06019708,  2.29243368,  2.36689983,  2.49311623,  2.56627264],\n",
       "       [ 1.78356613,  1.89985671,  2.6282923 ,  2.64008461,  2.70683332],\n",
       "       [ 1.37494836,  1.4339132 ,  1.64746253,  1.77137087,  1.77691451],\n",
       "       [ 2.50727966,  3.08522568,  3.32925835,  3.34355397,  3.53153199],\n",
       "       [ 2.23881116,  2.64783865,  2.65581293,  2.71227439,  2.8556447 ],\n",
       "       [ 1.55323837,  1.80905146,  2.0911957 ,  2.2527179 ,  2.36090491],\n",
       "       [ 2.14132456,  2.30791171,  2.31397978,  2.33430195,  2.3971329 ],\n",
       "       [ 1.52773027,  1.77411696,  1.94657694,  2.11827894,  2.13153297],\n",
       "       [ 2.28874384,  2.29263063,  2.44521819,  2.48192224,  2.50836386],\n",
       "       [ 1.50947172,  2.03476864,  2.4959703 ,  2.74899654,  2.76597787],\n",
       "       [ 1.27205752,  1.38524158,  1.95279022,  2.36303171,  2.43312744],\n",
       "       [ 1.54923696,  1.72469596,  1.82370029,  1.92564889,  1.93039652],\n",
       "       [ 1.9000762 ,  1.91898096,  1.97615066,  2.09188247,  2.09638501],\n",
       "       [ 1.69247905,  1.82208338,  2.29182218,  2.34881805,  2.35166921],\n",
       "       [ 1.49429958,  1.89233762,  1.98081337,  1.99140748,  2.03164289],\n",
       "       [ 3.70744725,  3.99686465,  4.03162809,  4.23991967,  4.30458821],\n",
       "       [ 1.18876056,  1.52827219,  2.29862343,  2.56955369,  2.57743757],\n",
       "       [ 1.44612505,  2.0436357 ,  2.16773146,  2.4641501 ,  2.75696449],\n",
       "       [ 1.62245256,  1.6395165 ,  1.84510857,  1.9057561 ,  1.91537844],\n",
       "       [ 1.29237591,  1.54743718,  2.11897681,  2.1334785 ,  2.14092745],\n",
       "       [ 1.34719476,  1.56075924,  1.78843725,  1.83094786,  1.9195831 ],\n",
       "       [ 1.66820556,  1.86919542,  1.88754581,  1.99355398,  2.01648405],\n",
       "       [ 3.9331572 ,  4.1963567 ,  4.2557834 ,  4.47612075,  4.4906842 ]])"
      ]
     },
     "execution_count": 659,
     "metadata": {},
     "output_type": "execute_result"
    }
   ],
   "source": [
    "#distances1\n",
    "#distances3\n",
    "distances5"
   ]
  },
  {
   "cell_type": "code",
   "execution_count": 630,
   "metadata": {},
   "outputs": [
    {
     "data": {
      "text/plain": [
       "array([[ 0.,  0.,  0., ...,  0.,  0.,  0.],\n",
       "       [ 0.,  0.,  0., ...,  0.,  0.,  0.],\n",
       "       [ 0.,  0.,  0., ...,  0.,  0.,  0.],\n",
       "       ..., \n",
       "       [ 0.,  0.,  0., ...,  0.,  0.,  0.],\n",
       "       [ 0.,  0.,  0., ...,  0.,  0.,  0.],\n",
       "       [ 0.,  0.,  0., ...,  0.,  0.,  0.]])"
      ]
     },
     "execution_count": 630,
     "metadata": {},
     "output_type": "execute_result"
    }
   ],
   "source": [
    "KNN1.kneighbors_graph(X_test).toarray()"
   ]
  },
  {
   "cell_type": "code",
   "execution_count": 590,
   "metadata": {},
   "outputs": [
    {
     "name": "stdout",
     "output_type": "stream",
     "text": [
      "Accuracy of K=1 Training set is: 1.0\n",
      "Accuracy of K=3 Training set is: 0.974358974359\n",
      "Accuracy of K=5 Training set is: 0.974358974359\n",
      "\n",
      "Accuracy of K=1 Testing set is: 0.934426229508\n",
      "Accuracy of K=3 Testing set is: 0.934426229508\n",
      "Accuracy of K=5 Testing set is: 0.950819672131\n",
      "\n"
     ]
    }
   ],
   "source": [
    "k1train = metrics.accuracy_score(y_train, y_pred_KNN1_train)\n",
    "k3train = metrics.accuracy_score(y_train, y_pred_KNN3_train)\n",
    "k5train = metrics.accuracy_score(y_train, y_pred_KNN3_train)\n",
    "\n",
    "k1test = metrics.accuracy_score(y_test, y_pred_KNN1_test)\n",
    "k3test = metrics.accuracy_score(y_test, y_pred_KNN3_test)\n",
    "k5test = metrics.accuracy_score(y_test, y_pred_KNN5_test)\n",
    "\n",
    "print'Accuracy of K=1 Training set is:', k1train \n",
    "print'Accuracy of K=3 Training set is:', k3train \n",
    "print'Accuracy of K=5 Training set is:', k5train \n",
    "print\"\"\n",
    "\n",
    "print'Accuracy of K=1 Testing set is:', k1test \n",
    "print'Accuracy of K=3 Testing set is:', k3test \n",
    "print'Accuracy of K=5 Testing set is:', k5test \n",
    "print\"\""
   ]
  },
  {
   "cell_type": "code",
   "execution_count": 643,
   "metadata": {},
   "outputs": [
    {
     "name": "stdout",
     "output_type": "stream",
     "text": [
      "             precision    recall  f1-score   support\n",
      "\n",
      "          1       0.89      1.00      0.94        16\n",
      "          2       1.00      0.82      0.90        22\n",
      "          3       0.92      1.00      0.96        23\n",
      "\n",
      "avg / total       0.94      0.93      0.93        61\n",
      "\n"
     ]
    }
   ],
   "source": [
    "print(metrics.classification_report(y_test, y_pred_KNN1))"
   ]
  },
  {
   "cell_type": "code",
   "execution_count": 644,
   "metadata": {},
   "outputs": [
    {
     "name": "stdout",
     "output_type": "stream",
     "text": [
      "             precision    recall  f1-score   support\n",
      "\n",
      "          1       0.89      1.00      0.94        16\n",
      "          2       1.00      0.82      0.90        22\n",
      "          3       0.92      1.00      0.96        23\n",
      "\n",
      "avg / total       0.94      0.93      0.93        61\n",
      "\n"
     ]
    }
   ],
   "source": [
    "print(metrics.classification_report(y_test, y_pred_KNN3))"
   ]
  },
  {
   "cell_type": "code",
   "execution_count": 645,
   "metadata": {},
   "outputs": [
    {
     "name": "stdout",
     "output_type": "stream",
     "text": [
      "             precision    recall  f1-score   support\n",
      "\n",
      "          1       0.89      1.00      0.94        16\n",
      "          2       1.00      0.86      0.93        22\n",
      "          3       0.96      1.00      0.98        23\n",
      "\n",
      "avg / total       0.96      0.95      0.95        61\n",
      "\n"
     ]
    }
   ],
   "source": [
    "print(metrics.classification_report(y_test, y_pred_KNN5))"
   ]
  },
  {
   "cell_type": "code",
   "execution_count": 735,
   "metadata": {
    "collapsed": true
   },
   "outputs": [],
   "source": [
    "# Evaluating the classifier performances\n",
    "#Decision Tree \n",
    "DTreePerformance = precision_recall_fscore_support(y_test,DTree1.predict(X_test))\n",
    "# Gaussian Navie Bayes classifier\n",
    "NBPerformance = precision_recall_fscore_support(y_test,NB.predict(X_test))\n",
    "# KNeighborsClassifier\n",
    "KNN5Performance = precision_recall_fscore_support(y_test,KNN5.predict(X_test))\n"
   ]
  },
  {
   "cell_type": "code",
   "execution_count": 736,
   "metadata": {},
   "outputs": [
    {
     "data": {
      "text/plain": [
       "(array([ 0.84210526,  0.77272727,  0.9       ]),\n",
       " array([ 1.        ,  0.77272727,  0.7826087 ]),\n",
       " array([ 0.91428571,  0.77272727,  0.8372093 ]),\n",
       " array([16, 22, 23]))"
      ]
     },
     "execution_count": 736,
     "metadata": {},
     "output_type": "execute_result"
    }
   ],
   "source": [
    "DTreePerformance"
   ]
  },
  {
   "cell_type": "code",
   "execution_count": 737,
   "metadata": {},
   "outputs": [
    {
     "data": {
      "text/plain": [
       "(array([ 0.88888889,  1.        ,  1.        ]),\n",
       " array([ 1.        ,  0.90909091,  1.        ]),\n",
       " array([ 0.94117647,  0.95238095,  1.        ]),\n",
       " array([16, 22, 23]))"
      ]
     },
     "execution_count": 737,
     "metadata": {},
     "output_type": "execute_result"
    }
   ],
   "source": [
    "NBPerformance"
   ]
  },
  {
   "cell_type": "code",
   "execution_count": 738,
   "metadata": {},
   "outputs": [
    {
     "data": {
      "text/plain": [
       "(array([ 0.88888889,  1.        ,  0.95833333]),\n",
       " array([ 1.        ,  0.86363636,  1.        ]),\n",
       " array([ 0.94117647,  0.92682927,  0.9787234 ]),\n",
       " array([16, 22, 23]))"
      ]
     },
     "execution_count": 738,
     "metadata": {},
     "output_type": "execute_result"
    }
   ],
   "source": [
    "KNNPerformance"
   ]
  },
  {
   "cell_type": "code",
   "execution_count": null,
   "metadata": {
    "collapsed": true
   },
   "outputs": [],
   "source": []
  }
 ],
 "metadata": {
  "kernelspec": {
   "display_name": "Python 3",
   "language": "python",
   "name": "python3"
  },
  "language_info": {
   "codemirror_mode": {
    "name": "ipython",
    "version": 3
   },
   "file_extension": ".py",
   "mimetype": "text/x-python",
   "name": "python",
   "nbconvert_exporter": "python",
   "pygments_lexer": "ipython3",
   "version": "3.6.4"
  }
 },
 "nbformat": 4,
 "nbformat_minor": 2
}
