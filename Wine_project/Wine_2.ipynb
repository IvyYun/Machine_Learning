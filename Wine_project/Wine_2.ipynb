{
 "cells": [
  {
   "cell_type": "code",
   "execution_count": 4,
   "metadata": {},
   "outputs": [],
   "source": [
    "import pandas as pd\n",
    "import numpy as np\n",
    "import scipy.io\n",
    "import matplotlib\n",
    "import matplotlib.pylab as plt\n",
    "import random\n",
    "import scikitplot as skplt\n",
    "\n",
    "from sklearn import cross_validation\n",
    "\n",
    "#Import sampling helper\n",
    "from sklearn.model_selection import train_test_split, cross_val_score\n",
    "\n",
    "#Import preprocessing modulesPython\n",
    "from sklearn import preprocessing,metrics\n",
    "from sklearn.pipeline import Pipeline\n",
    "\n",
    "from sklearn.discriminant_analysis import LinearDiscriminantAnalysis\n",
    "\n",
    "from sklearn.linear_model import ElasticNet\n",
    "#Import evaluation metricsPython\n",
    "from sklearn.metrics import mean_squared_error,r2_score\n",
    "\n",
    "#Import cross-validation pipelinePython\n",
    "from sklearn.pipeline import make_pipeline\n",
    "from sklearn.model_selection import GridSearchCV\n",
    "\n",
    "from sklearn.metrics import classification_report, confusion_matrix,precision_recall_fscore_support\n",
    "from sklearn.preprocessing import StandardScaler\n",
    "\n",
    "# To model the decision tree \n",
    "from sklearn.tree import DecisionTreeClassifier\n",
    "# To model the Gaussian Navie Bayes classifier\n",
    "from sklearn.naive_bayes import GaussianNB\n",
    "\n",
    "import seaborn as sns\n",
    "from math import sqrt\n",
    "import scipy.stats as stats"
   ]
  },
  {
   "cell_type": "code",
   "execution_count": 1202,
   "metadata": {
    "collapsed": true
   },
   "outputs": [],
   "source": [
    "filename = \"/Users/Wine.txt\"\n",
    "columns = [\"Class\",\"Alcohol\",\"Malic_acid\",\"Ash\",\"Alcal_ash\",\n",
    "           \"Mag\",\"Total_ph\",\"Flav_ph\",\"Nonflav_ph\",\"Proan\", \n",
    "           \"Color_inten\",\"Hue\",\"Diluted\", \"Proline\"]\n",
    "winedata = pd.read_csv(filename, header = None, sep=',',names = columns)\n",
    "df = winedata.copy(deep=True)\n",
    "#df= df.reset_index().values"
   ]
  },
  {
   "cell_type": "code",
   "execution_count": 100,
   "metadata": {},
   "outputs": [
    {
     "data": {
      "text/plain": [
       "(178, 14)"
      ]
     },
     "execution_count": 100,
     "metadata": {},
     "output_type": "execute_result"
    }
   ],
   "source": [
    "winedata.shape"
   ]
  },
  {
   "cell_type": "code",
   "execution_count": 101,
   "metadata": {},
   "outputs": [
    {
     "data": {
      "text/html": [
       "<div>\n",
       "<style scoped>\n",
       "    .dataframe tbody tr th:only-of-type {\n",
       "        vertical-align: middle;\n",
       "    }\n",
       "\n",
       "    .dataframe tbody tr th {\n",
       "        vertical-align: top;\n",
       "    }\n",
       "\n",
       "    .dataframe thead th {\n",
       "        text-align: right;\n",
       "    }\n",
       "</style>\n",
       "<table border=\"1\" class=\"dataframe\">\n",
       "  <thead>\n",
       "    <tr style=\"text-align: right;\">\n",
       "      <th></th>\n",
       "      <th>Class</th>\n",
       "      <th>Alcohol</th>\n",
       "      <th>Malic_acid</th>\n",
       "      <th>Ash</th>\n",
       "      <th>Alcal_ash</th>\n",
       "      <th>Mag</th>\n",
       "      <th>Total_ph</th>\n",
       "      <th>Flav_ph</th>\n",
       "      <th>Nonflav_ph</th>\n",
       "      <th>Proan</th>\n",
       "      <th>Color_inten</th>\n",
       "      <th>Hue</th>\n",
       "      <th>Diluted</th>\n",
       "      <th>Proline</th>\n",
       "    </tr>\n",
       "  </thead>\n",
       "  <tbody>\n",
       "    <tr>\n",
       "      <th>0</th>\n",
       "      <td>1</td>\n",
       "      <td>14.23</td>\n",
       "      <td>1.71</td>\n",
       "      <td>2.43</td>\n",
       "      <td>15.6</td>\n",
       "      <td>127</td>\n",
       "      <td>2.80</td>\n",
       "      <td>3.06</td>\n",
       "      <td>0.28</td>\n",
       "      <td>2.29</td>\n",
       "      <td>5.64</td>\n",
       "      <td>1.04</td>\n",
       "      <td>3.92</td>\n",
       "      <td>1065</td>\n",
       "    </tr>\n",
       "    <tr>\n",
       "      <th>1</th>\n",
       "      <td>1</td>\n",
       "      <td>13.20</td>\n",
       "      <td>1.78</td>\n",
       "      <td>2.14</td>\n",
       "      <td>11.2</td>\n",
       "      <td>100</td>\n",
       "      <td>2.65</td>\n",
       "      <td>2.76</td>\n",
       "      <td>0.26</td>\n",
       "      <td>1.28</td>\n",
       "      <td>4.38</td>\n",
       "      <td>1.05</td>\n",
       "      <td>3.40</td>\n",
       "      <td>1050</td>\n",
       "    </tr>\n",
       "    <tr>\n",
       "      <th>2</th>\n",
       "      <td>1</td>\n",
       "      <td>13.16</td>\n",
       "      <td>2.36</td>\n",
       "      <td>2.67</td>\n",
       "      <td>18.6</td>\n",
       "      <td>101</td>\n",
       "      <td>2.80</td>\n",
       "      <td>3.24</td>\n",
       "      <td>0.30</td>\n",
       "      <td>2.81</td>\n",
       "      <td>5.68</td>\n",
       "      <td>1.03</td>\n",
       "      <td>3.17</td>\n",
       "      <td>1185</td>\n",
       "    </tr>\n",
       "    <tr>\n",
       "      <th>3</th>\n",
       "      <td>1</td>\n",
       "      <td>14.37</td>\n",
       "      <td>1.95</td>\n",
       "      <td>2.50</td>\n",
       "      <td>16.8</td>\n",
       "      <td>113</td>\n",
       "      <td>3.85</td>\n",
       "      <td>3.49</td>\n",
       "      <td>0.24</td>\n",
       "      <td>2.18</td>\n",
       "      <td>7.80</td>\n",
       "      <td>0.86</td>\n",
       "      <td>3.45</td>\n",
       "      <td>1480</td>\n",
       "    </tr>\n",
       "    <tr>\n",
       "      <th>4</th>\n",
       "      <td>1</td>\n",
       "      <td>13.24</td>\n",
       "      <td>2.59</td>\n",
       "      <td>2.87</td>\n",
       "      <td>21.0</td>\n",
       "      <td>118</td>\n",
       "      <td>2.80</td>\n",
       "      <td>2.69</td>\n",
       "      <td>0.39</td>\n",
       "      <td>1.82</td>\n",
       "      <td>4.32</td>\n",
       "      <td>1.04</td>\n",
       "      <td>2.93</td>\n",
       "      <td>735</td>\n",
       "    </tr>\n",
       "  </tbody>\n",
       "</table>\n",
       "</div>"
      ],
      "text/plain": [
       "   Class  Alcohol  Malic_acid   Ash  Alcal_ash  Mag  Total_ph  Flav_ph  \\\n",
       "0      1    14.23        1.71  2.43       15.6  127      2.80     3.06   \n",
       "1      1    13.20        1.78  2.14       11.2  100      2.65     2.76   \n",
       "2      1    13.16        2.36  2.67       18.6  101      2.80     3.24   \n",
       "3      1    14.37        1.95  2.50       16.8  113      3.85     3.49   \n",
       "4      1    13.24        2.59  2.87       21.0  118      2.80     2.69   \n",
       "\n",
       "   Nonflav_ph  Proan  Color_inten   Hue  Diluted  Proline  \n",
       "0        0.28   2.29         5.64  1.04     3.92     1065  \n",
       "1        0.26   1.28         4.38  1.05     3.40     1050  \n",
       "2        0.30   2.81         5.68  1.03     3.17     1185  \n",
       "3        0.24   2.18         7.80  0.86     3.45     1480  \n",
       "4        0.39   1.82         4.32  1.04     2.93      735  "
      ]
     },
     "execution_count": 101,
     "metadata": {},
     "output_type": "execute_result"
    }
   ],
   "source": [
    "winedata.head()"
   ]
  },
  {
   "cell_type": "code",
   "execution_count": 1203,
   "metadata": {},
   "outputs": [],
   "source": [
    "# split data to X and y in numpy array\n",
    "y = df['Class'].values\n",
    "X = df.loc[:, 'Alcohol':].values"
   ]
  },
  {
   "cell_type": "markdown",
   "metadata": {
    "collapsed": true
   },
   "source": [
    "targetnames = X.columns"
   ]
  },
  {
   "cell_type": "code",
   "execution_count": 6,
   "metadata": {},
   "outputs": [
    {
     "data": {
      "text/html": [
       "<div>\n",
       "<style scoped>\n",
       "    .dataframe tbody tr th:only-of-type {\n",
       "        vertical-align: middle;\n",
       "    }\n",
       "\n",
       "    .dataframe tbody tr th {\n",
       "        vertical-align: top;\n",
       "    }\n",
       "\n",
       "    .dataframe thead th {\n",
       "        text-align: right;\n",
       "    }\n",
       "</style>\n",
       "<table border=\"1\" class=\"dataframe\">\n",
       "  <thead>\n",
       "    <tr style=\"text-align: right;\">\n",
       "      <th></th>\n",
       "      <th>Class</th>\n",
       "      <th>Alcohol</th>\n",
       "      <th>Malic_acid</th>\n",
       "      <th>Ash</th>\n",
       "      <th>Alcal_ash</th>\n",
       "      <th>Mag</th>\n",
       "      <th>Total_ph</th>\n",
       "      <th>Flav_ph</th>\n",
       "      <th>Nonflav_ph</th>\n",
       "      <th>Proan</th>\n",
       "      <th>Color_inten</th>\n",
       "      <th>Hue</th>\n",
       "      <th>Diluted</th>\n",
       "      <th>Proline</th>\n",
       "    </tr>\n",
       "  </thead>\n",
       "  <tbody>\n",
       "    <tr>\n",
       "      <th>count</th>\n",
       "      <td>178.000000</td>\n",
       "      <td>178.000000</td>\n",
       "      <td>178.000000</td>\n",
       "      <td>178.000000</td>\n",
       "      <td>178.000000</td>\n",
       "      <td>178.000000</td>\n",
       "      <td>178.000000</td>\n",
       "      <td>178.000000</td>\n",
       "      <td>178.000000</td>\n",
       "      <td>178.000000</td>\n",
       "      <td>178.000000</td>\n",
       "      <td>178.000000</td>\n",
       "      <td>178.000000</td>\n",
       "      <td>178.000000</td>\n",
       "    </tr>\n",
       "    <tr>\n",
       "      <th>mean</th>\n",
       "      <td>1.938202</td>\n",
       "      <td>13.000618</td>\n",
       "      <td>2.336348</td>\n",
       "      <td>2.366517</td>\n",
       "      <td>19.494944</td>\n",
       "      <td>99.741573</td>\n",
       "      <td>2.295112</td>\n",
       "      <td>2.029270</td>\n",
       "      <td>0.361854</td>\n",
       "      <td>1.590899</td>\n",
       "      <td>5.058090</td>\n",
       "      <td>0.957449</td>\n",
       "      <td>2.611685</td>\n",
       "      <td>746.893258</td>\n",
       "    </tr>\n",
       "    <tr>\n",
       "      <th>std</th>\n",
       "      <td>0.775035</td>\n",
       "      <td>0.811827</td>\n",
       "      <td>1.117146</td>\n",
       "      <td>0.274344</td>\n",
       "      <td>3.339564</td>\n",
       "      <td>14.282484</td>\n",
       "      <td>0.625851</td>\n",
       "      <td>0.998859</td>\n",
       "      <td>0.124453</td>\n",
       "      <td>0.572359</td>\n",
       "      <td>2.318286</td>\n",
       "      <td>0.228572</td>\n",
       "      <td>0.709990</td>\n",
       "      <td>314.907474</td>\n",
       "    </tr>\n",
       "    <tr>\n",
       "      <th>min</th>\n",
       "      <td>1.000000</td>\n",
       "      <td>11.030000</td>\n",
       "      <td>0.740000</td>\n",
       "      <td>1.360000</td>\n",
       "      <td>10.600000</td>\n",
       "      <td>70.000000</td>\n",
       "      <td>0.980000</td>\n",
       "      <td>0.340000</td>\n",
       "      <td>0.130000</td>\n",
       "      <td>0.410000</td>\n",
       "      <td>1.280000</td>\n",
       "      <td>0.480000</td>\n",
       "      <td>1.270000</td>\n",
       "      <td>278.000000</td>\n",
       "    </tr>\n",
       "    <tr>\n",
       "      <th>25%</th>\n",
       "      <td>1.000000</td>\n",
       "      <td>12.362500</td>\n",
       "      <td>1.602500</td>\n",
       "      <td>2.210000</td>\n",
       "      <td>17.200000</td>\n",
       "      <td>88.000000</td>\n",
       "      <td>1.742500</td>\n",
       "      <td>1.205000</td>\n",
       "      <td>0.270000</td>\n",
       "      <td>1.250000</td>\n",
       "      <td>3.220000</td>\n",
       "      <td>0.782500</td>\n",
       "      <td>1.937500</td>\n",
       "      <td>500.500000</td>\n",
       "    </tr>\n",
       "    <tr>\n",
       "      <th>50%</th>\n",
       "      <td>2.000000</td>\n",
       "      <td>13.050000</td>\n",
       "      <td>1.865000</td>\n",
       "      <td>2.360000</td>\n",
       "      <td>19.500000</td>\n",
       "      <td>98.000000</td>\n",
       "      <td>2.355000</td>\n",
       "      <td>2.135000</td>\n",
       "      <td>0.340000</td>\n",
       "      <td>1.555000</td>\n",
       "      <td>4.690000</td>\n",
       "      <td>0.965000</td>\n",
       "      <td>2.780000</td>\n",
       "      <td>673.500000</td>\n",
       "    </tr>\n",
       "    <tr>\n",
       "      <th>75%</th>\n",
       "      <td>3.000000</td>\n",
       "      <td>13.677500</td>\n",
       "      <td>3.082500</td>\n",
       "      <td>2.557500</td>\n",
       "      <td>21.500000</td>\n",
       "      <td>107.000000</td>\n",
       "      <td>2.800000</td>\n",
       "      <td>2.875000</td>\n",
       "      <td>0.437500</td>\n",
       "      <td>1.950000</td>\n",
       "      <td>6.200000</td>\n",
       "      <td>1.120000</td>\n",
       "      <td>3.170000</td>\n",
       "      <td>985.000000</td>\n",
       "    </tr>\n",
       "    <tr>\n",
       "      <th>max</th>\n",
       "      <td>3.000000</td>\n",
       "      <td>14.830000</td>\n",
       "      <td>5.800000</td>\n",
       "      <td>3.230000</td>\n",
       "      <td>30.000000</td>\n",
       "      <td>162.000000</td>\n",
       "      <td>3.880000</td>\n",
       "      <td>5.080000</td>\n",
       "      <td>0.660000</td>\n",
       "      <td>3.580000</td>\n",
       "      <td>13.000000</td>\n",
       "      <td>1.710000</td>\n",
       "      <td>4.000000</td>\n",
       "      <td>1680.000000</td>\n",
       "    </tr>\n",
       "  </tbody>\n",
       "</table>\n",
       "</div>"
      ],
      "text/plain": [
       "            Class     Alcohol  Malic_acid         Ash   Alcal_ash         Mag  \\\n",
       "count  178.000000  178.000000  178.000000  178.000000  178.000000  178.000000   \n",
       "mean     1.938202   13.000618    2.336348    2.366517   19.494944   99.741573   \n",
       "std      0.775035    0.811827    1.117146    0.274344    3.339564   14.282484   \n",
       "min      1.000000   11.030000    0.740000    1.360000   10.600000   70.000000   \n",
       "25%      1.000000   12.362500    1.602500    2.210000   17.200000   88.000000   \n",
       "50%      2.000000   13.050000    1.865000    2.360000   19.500000   98.000000   \n",
       "75%      3.000000   13.677500    3.082500    2.557500   21.500000  107.000000   \n",
       "max      3.000000   14.830000    5.800000    3.230000   30.000000  162.000000   \n",
       "\n",
       "         Total_ph     Flav_ph  Nonflav_ph       Proan  Color_inten  \\\n",
       "count  178.000000  178.000000  178.000000  178.000000   178.000000   \n",
       "mean     2.295112    2.029270    0.361854    1.590899     5.058090   \n",
       "std      0.625851    0.998859    0.124453    0.572359     2.318286   \n",
       "min      0.980000    0.340000    0.130000    0.410000     1.280000   \n",
       "25%      1.742500    1.205000    0.270000    1.250000     3.220000   \n",
       "50%      2.355000    2.135000    0.340000    1.555000     4.690000   \n",
       "75%      2.800000    2.875000    0.437500    1.950000     6.200000   \n",
       "max      3.880000    5.080000    0.660000    3.580000    13.000000   \n",
       "\n",
       "              Hue     Diluted      Proline  \n",
       "count  178.000000  178.000000   178.000000  \n",
       "mean     0.957449    2.611685   746.893258  \n",
       "std      0.228572    0.709990   314.907474  \n",
       "min      0.480000    1.270000   278.000000  \n",
       "25%      0.782500    1.937500   500.500000  \n",
       "50%      0.965000    2.780000   673.500000  \n",
       "75%      1.120000    3.170000   985.000000  \n",
       "max      1.710000    4.000000  1680.000000  "
      ]
     },
     "execution_count": 6,
     "metadata": {},
     "output_type": "execute_result"
    }
   ],
   "source": [
    "df.describe()"
   ]
  },
  {
   "cell_type": "code",
   "execution_count": 442,
   "metadata": {},
   "outputs": [
    {
     "data": {
      "text/html": [
       "<div>\n",
       "<style scoped>\n",
       "    .dataframe tbody tr th:only-of-type {\n",
       "        vertical-align: middle;\n",
       "    }\n",
       "\n",
       "    .dataframe tbody tr th {\n",
       "        vertical-align: top;\n",
       "    }\n",
       "\n",
       "    .dataframe thead th {\n",
       "        text-align: right;\n",
       "    }\n",
       "</style>\n",
       "<table border=\"1\" class=\"dataframe\">\n",
       "  <thead>\n",
       "    <tr style=\"text-align: right;\">\n",
       "      <th></th>\n",
       "      <th>Class</th>\n",
       "      <th>Alcohol</th>\n",
       "      <th>Malic_acid</th>\n",
       "      <th>Ash</th>\n",
       "      <th>Alcal_ash</th>\n",
       "      <th>Mag</th>\n",
       "      <th>Total_ph</th>\n",
       "      <th>Flav_ph</th>\n",
       "      <th>Nonflav_ph</th>\n",
       "      <th>Proan</th>\n",
       "      <th>Color_inten</th>\n",
       "      <th>Hue</th>\n",
       "      <th>Diluted</th>\n",
       "      <th>Proline</th>\n",
       "    </tr>\n",
       "  </thead>\n",
       "  <tbody>\n",
       "    <tr>\n",
       "      <th>Class</th>\n",
       "      <td>1.000000</td>\n",
       "      <td>-0.328222</td>\n",
       "      <td>0.437776</td>\n",
       "      <td>-0.049643</td>\n",
       "      <td>0.517859</td>\n",
       "      <td>-0.209179</td>\n",
       "      <td>-0.719163</td>\n",
       "      <td>-0.847498</td>\n",
       "      <td>0.489109</td>\n",
       "      <td>-0.499130</td>\n",
       "      <td>0.265668</td>\n",
       "      <td>-0.617369</td>\n",
       "      <td>-0.788230</td>\n",
       "      <td>-0.633717</td>\n",
       "    </tr>\n",
       "    <tr>\n",
       "      <th>Alcohol</th>\n",
       "      <td>-0.328222</td>\n",
       "      <td>1.000000</td>\n",
       "      <td>0.094397</td>\n",
       "      <td>0.211545</td>\n",
       "      <td>-0.310235</td>\n",
       "      <td>0.270798</td>\n",
       "      <td>0.289101</td>\n",
       "      <td>0.236815</td>\n",
       "      <td>-0.155929</td>\n",
       "      <td>0.136698</td>\n",
       "      <td>0.546364</td>\n",
       "      <td>-0.071747</td>\n",
       "      <td>0.072343</td>\n",
       "      <td>0.643720</td>\n",
       "    </tr>\n",
       "    <tr>\n",
       "      <th>Malic_acid</th>\n",
       "      <td>0.437776</td>\n",
       "      <td>0.094397</td>\n",
       "      <td>1.000000</td>\n",
       "      <td>0.164045</td>\n",
       "      <td>0.288500</td>\n",
       "      <td>-0.054575</td>\n",
       "      <td>-0.335167</td>\n",
       "      <td>-0.411007</td>\n",
       "      <td>0.292977</td>\n",
       "      <td>-0.220746</td>\n",
       "      <td>0.248985</td>\n",
       "      <td>-0.561296</td>\n",
       "      <td>-0.368710</td>\n",
       "      <td>-0.192011</td>\n",
       "    </tr>\n",
       "    <tr>\n",
       "      <th>Ash</th>\n",
       "      <td>-0.049643</td>\n",
       "      <td>0.211545</td>\n",
       "      <td>0.164045</td>\n",
       "      <td>1.000000</td>\n",
       "      <td>0.443367</td>\n",
       "      <td>0.286587</td>\n",
       "      <td>0.128980</td>\n",
       "      <td>0.115077</td>\n",
       "      <td>0.186230</td>\n",
       "      <td>0.009652</td>\n",
       "      <td>0.258887</td>\n",
       "      <td>-0.074667</td>\n",
       "      <td>0.003911</td>\n",
       "      <td>0.223626</td>\n",
       "    </tr>\n",
       "    <tr>\n",
       "      <th>Alcal_ash</th>\n",
       "      <td>0.517859</td>\n",
       "      <td>-0.310235</td>\n",
       "      <td>0.288500</td>\n",
       "      <td>0.443367</td>\n",
       "      <td>1.000000</td>\n",
       "      <td>-0.083333</td>\n",
       "      <td>-0.321113</td>\n",
       "      <td>-0.351370</td>\n",
       "      <td>0.361922</td>\n",
       "      <td>-0.197327</td>\n",
       "      <td>0.018732</td>\n",
       "      <td>-0.273955</td>\n",
       "      <td>-0.276769</td>\n",
       "      <td>-0.440597</td>\n",
       "    </tr>\n",
       "    <tr>\n",
       "      <th>Mag</th>\n",
       "      <td>-0.209179</td>\n",
       "      <td>0.270798</td>\n",
       "      <td>-0.054575</td>\n",
       "      <td>0.286587</td>\n",
       "      <td>-0.083333</td>\n",
       "      <td>1.000000</td>\n",
       "      <td>0.214401</td>\n",
       "      <td>0.195784</td>\n",
       "      <td>-0.256294</td>\n",
       "      <td>0.236441</td>\n",
       "      <td>0.199950</td>\n",
       "      <td>0.055398</td>\n",
       "      <td>0.066004</td>\n",
       "      <td>0.393351</td>\n",
       "    </tr>\n",
       "    <tr>\n",
       "      <th>Total_ph</th>\n",
       "      <td>-0.719163</td>\n",
       "      <td>0.289101</td>\n",
       "      <td>-0.335167</td>\n",
       "      <td>0.128980</td>\n",
       "      <td>-0.321113</td>\n",
       "      <td>0.214401</td>\n",
       "      <td>1.000000</td>\n",
       "      <td>0.864564</td>\n",
       "      <td>-0.449935</td>\n",
       "      <td>0.612413</td>\n",
       "      <td>-0.055136</td>\n",
       "      <td>0.433681</td>\n",
       "      <td>0.699949</td>\n",
       "      <td>0.498115</td>\n",
       "    </tr>\n",
       "    <tr>\n",
       "      <th>Flav_ph</th>\n",
       "      <td>-0.847498</td>\n",
       "      <td>0.236815</td>\n",
       "      <td>-0.411007</td>\n",
       "      <td>0.115077</td>\n",
       "      <td>-0.351370</td>\n",
       "      <td>0.195784</td>\n",
       "      <td>0.864564</td>\n",
       "      <td>1.000000</td>\n",
       "      <td>-0.537900</td>\n",
       "      <td>0.652692</td>\n",
       "      <td>-0.172379</td>\n",
       "      <td>0.543479</td>\n",
       "      <td>0.787194</td>\n",
       "      <td>0.494193</td>\n",
       "    </tr>\n",
       "    <tr>\n",
       "      <th>Nonflav_ph</th>\n",
       "      <td>0.489109</td>\n",
       "      <td>-0.155929</td>\n",
       "      <td>0.292977</td>\n",
       "      <td>0.186230</td>\n",
       "      <td>0.361922</td>\n",
       "      <td>-0.256294</td>\n",
       "      <td>-0.449935</td>\n",
       "      <td>-0.537900</td>\n",
       "      <td>1.000000</td>\n",
       "      <td>-0.365845</td>\n",
       "      <td>0.139057</td>\n",
       "      <td>-0.262640</td>\n",
       "      <td>-0.503270</td>\n",
       "      <td>-0.311385</td>\n",
       "    </tr>\n",
       "    <tr>\n",
       "      <th>Proan</th>\n",
       "      <td>-0.499130</td>\n",
       "      <td>0.136698</td>\n",
       "      <td>-0.220746</td>\n",
       "      <td>0.009652</td>\n",
       "      <td>-0.197327</td>\n",
       "      <td>0.236441</td>\n",
       "      <td>0.612413</td>\n",
       "      <td>0.652692</td>\n",
       "      <td>-0.365845</td>\n",
       "      <td>1.000000</td>\n",
       "      <td>-0.025250</td>\n",
       "      <td>0.295544</td>\n",
       "      <td>0.519067</td>\n",
       "      <td>0.330417</td>\n",
       "    </tr>\n",
       "    <tr>\n",
       "      <th>Color_inten</th>\n",
       "      <td>0.265668</td>\n",
       "      <td>0.546364</td>\n",
       "      <td>0.248985</td>\n",
       "      <td>0.258887</td>\n",
       "      <td>0.018732</td>\n",
       "      <td>0.199950</td>\n",
       "      <td>-0.055136</td>\n",
       "      <td>-0.172379</td>\n",
       "      <td>0.139057</td>\n",
       "      <td>-0.025250</td>\n",
       "      <td>1.000000</td>\n",
       "      <td>-0.521813</td>\n",
       "      <td>-0.428815</td>\n",
       "      <td>0.316100</td>\n",
       "    </tr>\n",
       "    <tr>\n",
       "      <th>Hue</th>\n",
       "      <td>-0.617369</td>\n",
       "      <td>-0.071747</td>\n",
       "      <td>-0.561296</td>\n",
       "      <td>-0.074667</td>\n",
       "      <td>-0.273955</td>\n",
       "      <td>0.055398</td>\n",
       "      <td>0.433681</td>\n",
       "      <td>0.543479</td>\n",
       "      <td>-0.262640</td>\n",
       "      <td>0.295544</td>\n",
       "      <td>-0.521813</td>\n",
       "      <td>1.000000</td>\n",
       "      <td>0.565468</td>\n",
       "      <td>0.236183</td>\n",
       "    </tr>\n",
       "    <tr>\n",
       "      <th>Diluted</th>\n",
       "      <td>-0.788230</td>\n",
       "      <td>0.072343</td>\n",
       "      <td>-0.368710</td>\n",
       "      <td>0.003911</td>\n",
       "      <td>-0.276769</td>\n",
       "      <td>0.066004</td>\n",
       "      <td>0.699949</td>\n",
       "      <td>0.787194</td>\n",
       "      <td>-0.503270</td>\n",
       "      <td>0.519067</td>\n",
       "      <td>-0.428815</td>\n",
       "      <td>0.565468</td>\n",
       "      <td>1.000000</td>\n",
       "      <td>0.312761</td>\n",
       "    </tr>\n",
       "    <tr>\n",
       "      <th>Proline</th>\n",
       "      <td>-0.633717</td>\n",
       "      <td>0.643720</td>\n",
       "      <td>-0.192011</td>\n",
       "      <td>0.223626</td>\n",
       "      <td>-0.440597</td>\n",
       "      <td>0.393351</td>\n",
       "      <td>0.498115</td>\n",
       "      <td>0.494193</td>\n",
       "      <td>-0.311385</td>\n",
       "      <td>0.330417</td>\n",
       "      <td>0.316100</td>\n",
       "      <td>0.236183</td>\n",
       "      <td>0.312761</td>\n",
       "      <td>1.000000</td>\n",
       "    </tr>\n",
       "  </tbody>\n",
       "</table>\n",
       "</div>"
      ],
      "text/plain": [
       "                Class   Alcohol  Malic_acid       Ash  Alcal_ash       Mag  \\\n",
       "Class        1.000000 -0.328222    0.437776 -0.049643   0.517859 -0.209179   \n",
       "Alcohol     -0.328222  1.000000    0.094397  0.211545  -0.310235  0.270798   \n",
       "Malic_acid   0.437776  0.094397    1.000000  0.164045   0.288500 -0.054575   \n",
       "Ash         -0.049643  0.211545    0.164045  1.000000   0.443367  0.286587   \n",
       "Alcal_ash    0.517859 -0.310235    0.288500  0.443367   1.000000 -0.083333   \n",
       "Mag         -0.209179  0.270798   -0.054575  0.286587  -0.083333  1.000000   \n",
       "Total_ph    -0.719163  0.289101   -0.335167  0.128980  -0.321113  0.214401   \n",
       "Flav_ph     -0.847498  0.236815   -0.411007  0.115077  -0.351370  0.195784   \n",
       "Nonflav_ph   0.489109 -0.155929    0.292977  0.186230   0.361922 -0.256294   \n",
       "Proan       -0.499130  0.136698   -0.220746  0.009652  -0.197327  0.236441   \n",
       "Color_inten  0.265668  0.546364    0.248985  0.258887   0.018732  0.199950   \n",
       "Hue         -0.617369 -0.071747   -0.561296 -0.074667  -0.273955  0.055398   \n",
       "Diluted     -0.788230  0.072343   -0.368710  0.003911  -0.276769  0.066004   \n",
       "Proline     -0.633717  0.643720   -0.192011  0.223626  -0.440597  0.393351   \n",
       "\n",
       "             Total_ph   Flav_ph  Nonflav_ph     Proan  Color_inten       Hue  \\\n",
       "Class       -0.719163 -0.847498    0.489109 -0.499130     0.265668 -0.617369   \n",
       "Alcohol      0.289101  0.236815   -0.155929  0.136698     0.546364 -0.071747   \n",
       "Malic_acid  -0.335167 -0.411007    0.292977 -0.220746     0.248985 -0.561296   \n",
       "Ash          0.128980  0.115077    0.186230  0.009652     0.258887 -0.074667   \n",
       "Alcal_ash   -0.321113 -0.351370    0.361922 -0.197327     0.018732 -0.273955   \n",
       "Mag          0.214401  0.195784   -0.256294  0.236441     0.199950  0.055398   \n",
       "Total_ph     1.000000  0.864564   -0.449935  0.612413    -0.055136  0.433681   \n",
       "Flav_ph      0.864564  1.000000   -0.537900  0.652692    -0.172379  0.543479   \n",
       "Nonflav_ph  -0.449935 -0.537900    1.000000 -0.365845     0.139057 -0.262640   \n",
       "Proan        0.612413  0.652692   -0.365845  1.000000    -0.025250  0.295544   \n",
       "Color_inten -0.055136 -0.172379    0.139057 -0.025250     1.000000 -0.521813   \n",
       "Hue          0.433681  0.543479   -0.262640  0.295544    -0.521813  1.000000   \n",
       "Diluted      0.699949  0.787194   -0.503270  0.519067    -0.428815  0.565468   \n",
       "Proline      0.498115  0.494193   -0.311385  0.330417     0.316100  0.236183   \n",
       "\n",
       "              Diluted   Proline  \n",
       "Class       -0.788230 -0.633717  \n",
       "Alcohol      0.072343  0.643720  \n",
       "Malic_acid  -0.368710 -0.192011  \n",
       "Ash          0.003911  0.223626  \n",
       "Alcal_ash   -0.276769 -0.440597  \n",
       "Mag          0.066004  0.393351  \n",
       "Total_ph     0.699949  0.498115  \n",
       "Flav_ph      0.787194  0.494193  \n",
       "Nonflav_ph  -0.503270 -0.311385  \n",
       "Proan        0.519067  0.330417  \n",
       "Color_inten -0.428815  0.316100  \n",
       "Hue          0.565468  0.236183  \n",
       "Diluted      1.000000  0.312761  \n",
       "Proline      0.312761  1.000000  "
      ]
     },
     "execution_count": 442,
     "metadata": {},
     "output_type": "execute_result"
    }
   ],
   "source": [
    "df.corr()"
   ]
  },
  {
   "cell_type": "code",
   "execution_count": 55,
   "metadata": {
    "collapsed": true
   },
   "outputs": [],
   "source": [
    "#winedata.to_csv(\"/Users/winedata.csv\")"
   ]
  },
  {
   "cell_type": "code",
   "execution_count": 407,
   "metadata": {
    "collapsed": true
   },
   "outputs": [],
   "source": [
    "# split 66% for training and 34% for testing\n",
    "for i in range(30):\n",
    "    X_train, X_test, y_train, y_test = train_test_split(X, y, test_size=0.34, random_state=0,shuffle = True)"
   ]
  },
  {
   "cell_type": "code",
   "execution_count": 485,
   "metadata": {
    "collapsed": true
   },
   "outputs": [],
   "source": [
    "# normalized the data\n",
    "scaler = StandardScaler()\n",
    "scaler.fit(X_train)\n",
    "X_train = scaler.transform(X_train)\n",
    "X_test = scaler.transform(X_test)"
   ]
  },
  {
   "cell_type": "code",
   "execution_count": 477,
   "metadata": {
    "collapsed": true
   },
   "outputs": [],
   "source": [
    "# Decision tree, Navie Bayes classifers\n",
    "DTree = DecisionTreeClassifier()\n",
    "NB = GaussianNB()"
   ]
  },
  {
   "cell_type": "code",
   "execution_count": 437,
   "metadata": {
    "collapsed": true
   },
   "outputs": [],
   "source": [
    "param_grid = {'criterion':['gini','entropy'],'max_depth': np.arange(2, 10), \n",
    "              'min_samples_split':np.arange(2,10),'min_samples_leaf':np.arange(2,10)}"
   ]
  },
  {
   "cell_type": "code",
   "execution_count": 438,
   "metadata": {
    "scrolled": true
   },
   "outputs": [
    {
     "data": {
      "text/plain": [
       "{'criterion': 'entropy',\n",
       " 'max_depth': 3,\n",
       " 'min_samples_leaf': 3,\n",
       " 'min_samples_split': 2}"
      ]
     },
     "execution_count": 438,
     "metadata": {},
     "output_type": "execute_result"
    }
   ],
   "source": [
    "# use GridSearch to find the best parameters \n",
    "gs_tree = GridSearchCV(DTree, param_grid, cv=10)\n",
    "gs_tree.fit(X_train,y_train)\n",
    "gs_tree.best_params_"
   ]
  },
  {
   "cell_type": "code",
   "execution_count": 411,
   "metadata": {
    "collapsed": true
   },
   "outputs": [],
   "source": [
    "# on 66% of training\n",
    "DTree1 = DecisionTreeClassifier(min_samples_split=3,max_depth=3,\n",
    "                                min_samples_leaf=7,random_state=100)\n",
    "DTree1.fit(X_train,y_train)\n",
    "DT_test_pred = DTree1.predict(X_test)\n",
    "DT_train_pred = DTree1.predict(X_train)"
   ]
  },
  {
   "cell_type": "code",
   "execution_count": 516,
   "metadata": {},
   "outputs": [
    {
     "name": "stdout",
     "output_type": "stream",
     "text": [
      "2.2727272727272707 11.940298507462687\n"
     ]
    }
   ],
   "source": [
    "# split 25% for training \n",
    "for i in range(30):\n",
    "    X_train, X_test, y_train, y_test = train_test_split(X, y, train_size=0.25, random_state=10,shuffle = True)\n",
    "\n",
    "# on 25% training\n",
    "DTree1 = DecisionTreeClassifier(min_samples_split=3,max_depth=2,\n",
    "                                min_samples_leaf=2,random_state=10)\n",
    "DTree1.fit(X_train,y_train)\n",
    "DT_test_pred = DTree1.predict(X_test)\n",
    "DT_train_pred = DTree1.predict(X_train)\n",
    "\n",
    "# 25% training\n",
    "resubstitution_error_tree1 = (1-metrics.accuracy_score(y_train, DT_train_pred))*100\n",
    "\n",
    "generalization_error_tree1 = (1 - metrics.accuracy_score(y_test, DT_test_pred)) * 100\n",
    "\n",
    "print resubstitution_error_tree1, generalization_error_tree1"
   ]
  },
  {
   "cell_type": "code",
   "execution_count": 608,
   "metadata": {},
   "outputs": [
    {
     "name": "stdout",
     "output_type": "stream",
     "text": [
      "0.0 8.208955223880599\n"
     ]
    }
   ],
   "source": [
    "# split 25% for training \n",
    "for i in range(30):\n",
    "    X_train, X_test, y_train, y_test = train_test_split(X, y, train_size=0.25, random_state=10,shuffle = True)\n",
    "\n",
    "# on 25% training\n",
    "NB = GaussianNB()\n",
    "NB.fit(X_train, y_train)\n",
    "NB_train_pre = NB.predict(X_train)\n",
    "NB_test_pre = NB.predict(X_test)\n",
    "\n",
    "# 25% training\n",
    "resubstitution_error_NB1 = (1-metrics.accuracy_score(y_train, NB_train_pre))*100\n",
    "\n",
    "generalization_error_NB1 = (1 - metrics.accuracy_score(y_test, NB_test_pre)) * 100\n",
    "\n",
    "print resubstitution_error_NB1, generalization_error_NB1"
   ]
  },
  {
   "cell_type": "code",
   "execution_count": 517,
   "metadata": {},
   "outputs": [
    {
     "name": "stdout",
     "output_type": "stream",
     "text": [
      "1.6129032258064502 13.793103448275868\n"
     ]
    }
   ],
   "source": [
    "# split 35% for training \n",
    "for i in range(30):\n",
    "    X_train, X_test, y_train, y_test = train_test_split(X, y, train_size=0.35, random_state=10,shuffle = True)\n",
    "\n",
    "# on 35% training\n",
    "DTree1 = DecisionTreeClassifier(min_samples_split=3,max_depth=2,\n",
    "                                min_samples_leaf=2,random_state=20)\n",
    "DTree1.fit(X_train,y_train)\n",
    "DT_test_pred = DTree1.predict(X_test)\n",
    "DT_train_pred = DTree1.predict(X_train)\n",
    "\n",
    "# 35% training\n",
    "resubstitution_error_tree2 = (1-metrics.accuracy_score(y_train, DT_train_pred))*100\n",
    "\n",
    "generalization_error_tree2 = (1 - metrics.accuracy_score(y_test, DT_test_pred)) * 100\n",
    "\n",
    "print resubstitution_error_tree2, generalization_error_tree2"
   ]
  },
  {
   "cell_type": "code",
   "execution_count": 499,
   "metadata": {},
   "outputs": [
    {
     "name": "stdout",
     "output_type": "stream",
     "text": [
      "0.0 6.034482758620685\n"
     ]
    }
   ],
   "source": [
    "# split 35% for training \n",
    "for i in range(30):\n",
    "    X_train, X_test, y_train, y_test = train_test_split(X, y, train_size=0.35, random_state=10,shuffle = True)\n",
    "\n",
    "# on 35% training\n",
    "NB = GaussianNB()\n",
    "NB.fit(X_train, y_train)\n",
    "NB_train_pre = NB.predict(X_train)\n",
    "NB_test_pre = NB.predict(X_test)\n",
    "\n",
    "# 35% training\n",
    "resubstitution_error_NB2 = (1-metrics.accuracy_score(y_train, NB_train_pre))*100\n",
    "\n",
    "generalization_error_NB2 = (1 - metrics.accuracy_score(y_test, NB_test_pre)) * 100\n",
    "\n",
    "print resubstitution_error_NB2, generalization_error_NB2"
   ]
  },
  {
   "cell_type": "code",
   "execution_count": 501,
   "metadata": {},
   "outputs": [
    {
     "name": "stdout",
     "output_type": "stream",
     "text": [
      "1.2499999999999956 3.0612244897959218\n"
     ]
    }
   ],
   "source": [
    "# split 45% for training \n",
    "for i in range(30):\n",
    "    X_train, X_test, y_train, y_test = train_test_split(X, y, train_size=0.45, random_state=20,shuffle = True)\n",
    "\n",
    "# 45% training \n",
    "DTree1 = DecisionTreeClassifier(min_samples_split=3,max_depth=4,\n",
    "                                min_samples_leaf=2,random_state=30)\n",
    "DTree1.fit(X_train,y_train)\n",
    "DT_test_pred = DTree1.predict(X_test)\n",
    "DT_train_pred = DTree1.predict(X_train)\n",
    "\n",
    "# 45% training\n",
    "resubstitution_error_tree3 = (1-metrics.accuracy_score(y_train, DT_train_pred))*100\n",
    "\n",
    "generalization_error_tree3 = (1 - metrics.accuracy_score(y_test, DT_test_pred)) * 100\n",
    "\n",
    "print resubstitution_error_tree3, generalization_error_tree3"
   ]
  },
  {
   "cell_type": "code",
   "execution_count": 502,
   "metadata": {},
   "outputs": [
    {
     "name": "stdout",
     "output_type": "stream",
     "text": [
      "3.749999999999998 2.0408163265306145\n"
     ]
    }
   ],
   "source": [
    "# split 45% for training \n",
    "for i in range(30):\n",
    "    X_train, X_test, y_train, y_test = train_test_split(X, y, train_size=0.45, random_state=20,shuffle = True)\n",
    "\n",
    "# on 45% training\n",
    "NB = GaussianNB()\n",
    "NB.fit(X_train, y_train)\n",
    "NB_train_pre = NB.predict(X_train)\n",
    "NB_test_pre = NB.predict(X_test)\n",
    "\n",
    "# 45% training\n",
    "resubstitution_error_NB3 = (1-metrics.accuracy_score(y_train, NB_train_pre))*100\n",
    "\n",
    "generalization_error_NB3 = (1 - metrics.accuracy_score(y_test, NB_test_pre)) * 100\n",
    "\n",
    "print resubstitution_error_NB3, generalization_error_NB3"
   ]
  },
  {
   "cell_type": "code",
   "execution_count": 503,
   "metadata": {},
   "outputs": [
    {
     "name": "stdout",
     "output_type": "stream",
     "text": [
      "0.0 9.876543209876543\n"
     ]
    }
   ],
   "source": [
    "# split 55% for training \n",
    "for i in range(30):\n",
    "    X_train, X_test, y_train, y_test = train_test_split(X, y, train_size=0.55, random_state=30,shuffle = True)\n",
    "\n",
    "# 55% training \n",
    "DTree1 = DecisionTreeClassifier(min_samples_split=2,max_depth=7,\n",
    "                                min_samples_leaf=2,random_state=40)\n",
    "DTree1.fit(X_train,y_train)\n",
    "DT_test_pred = DTree1.predict(X_test)\n",
    "DT_train_pred = DTree1.predict(X_train)\n",
    "\n",
    "# 55% training\n",
    "resubstitution_error_tree4 = (1-metrics.accuracy_score(y_train, DT_train_pred))*100\n",
    "\n",
    "generalization_error_tree4 = (1 - metrics.accuracy_score(y_test, DT_test_pred)) * 100\n",
    "print resubstitution_error_tree4, generalization_error_tree4"
   ]
  },
  {
   "cell_type": "code",
   "execution_count": 504,
   "metadata": {},
   "outputs": [
    {
     "name": "stdout",
     "output_type": "stream",
     "text": [
      "0.0 2.4691358024691357\n"
     ]
    }
   ],
   "source": [
    "# split 55% for training \n",
    "for i in range(30):\n",
    "    X_train, X_test, y_train, y_test = train_test_split(X, y, train_size=0.55, random_state=30,shuffle = True)\n",
    "\n",
    "# on 55% training\n",
    "NB = GaussianNB()\n",
    "NB.fit(X_train, y_train)\n",
    "NB_train_pre = NB.predict(X_train)\n",
    "NB_test_pre = NB.predict(X_test)\n",
    "\n",
    "# 55% training\n",
    "resubstitution_error_NB4 = (1-metrics.accuracy_score(y_train, NB_train_pre))*100\n",
    "\n",
    "generalization_error_NB4 = (1 - metrics.accuracy_score(y_test, NB_test_pre)) * 100\n",
    "\n",
    "print resubstitution_error_NB4, generalization_error_NB4"
   ]
  },
  {
   "cell_type": "code",
   "execution_count": 505,
   "metadata": {},
   "outputs": [
    {
     "name": "stdout",
     "output_type": "stream",
     "text": [
      "0.8695652173912993 14.28571428571429\n"
     ]
    }
   ],
   "source": [
    "# split 65% for training \n",
    "for i in range(30):\n",
    "    X_train, X_test, y_train, y_test = train_test_split(X, y, train_size=0.65, random_state=40,shuffle = True)\n",
    "\n",
    "# 65% training \n",
    "DTree1 = DecisionTreeClassifier(min_samples_split=2,max_depth=3,\n",
    "                                min_samples_leaf=2,random_state=50)\n",
    "DTree1.fit(X_train,y_train)\n",
    "DT_test_pred = DTree1.predict(X_test)\n",
    "DT_train_pred = DTree1.predict(X_train)\n",
    "\n",
    "# 65% training\n",
    "resubstitution_error_tree5 = (1-metrics.accuracy_score(y_train, DT_train_pred))*100\n",
    "\n",
    "generalization_error_tree5 = (1 - metrics.accuracy_score(y_test, DT_test_pred)) * 100\n",
    "\n",
    "print resubstitution_error_tree5, generalization_error_tree5"
   ]
  },
  {
   "cell_type": "code",
   "execution_count": 506,
   "metadata": {},
   "outputs": [
    {
     "name": "stdout",
     "output_type": "stream",
     "text": [
      "1.7391304347826098 0.0\n"
     ]
    }
   ],
   "source": [
    "# split 65% for training \n",
    "for i in range(30):\n",
    "    X_train, X_test, y_train, y_test = train_test_split(X, y, train_size=0.65, random_state=40,shuffle = True)\n",
    "\n",
    "# 65% training \n",
    "NB = GaussianNB()\n",
    "NB.fit(X_train, y_train)\n",
    "NB_train_pre = NB.predict(X_train)\n",
    "NB_test_pre = NB.predict(X_test)\n",
    "\n",
    "# 65% training\n",
    "resubstitution_error_NB5 = (1-metrics.accuracy_score(y_train, NB_train_pre))*100\n",
    "\n",
    "generalization_error_NB5 = (1 - metrics.accuracy_score(y_test, NB_test_pre)) * 100\n",
    "\n",
    "print resubstitution_error_NB5, generalization_error_NB5"
   ]
  },
  {
   "cell_type": "code",
   "execution_count": 514,
   "metadata": {},
   "outputs": [
    {
     "name": "stdout",
     "output_type": "stream",
     "text": [
      "1.5037593984962405 8.888888888888891\n"
     ]
    }
   ],
   "source": [
    "# split 75% for training \n",
    "for i in range(30):\n",
    "    X_train, X_test, y_train, y_test = train_test_split(X, y, train_size=0.75, random_state=50,shuffle = True)\n",
    "\n",
    "# 75% training \n",
    "DTree1 = DecisionTreeClassifier(min_samples_split=2,max_depth=3,\n",
    "                                min_samples_leaf=3,random_state=60)\n",
    "DTree1.fit(X_train,y_train)\n",
    "DT_test_pred = DTree1.predict(X_test)\n",
    "DT_train_pred = DTree1.predict(X_train)\n",
    "\n",
    "# 75% training\n",
    "resubstitution_error_tree6 = (1-metrics.accuracy_score(y_train, DT_train_pred))*100\n",
    "\n",
    "generalization_error_tree6 = (1 - metrics.accuracy_score(y_test, DT_test_pred)) * 100\n",
    "\n",
    "print resubstitution_error_tree6, generalization_error_tree6"
   ]
  },
  {
   "cell_type": "code",
   "execution_count": 515,
   "metadata": {},
   "outputs": [
    {
     "name": "stdout",
     "output_type": "stream",
     "text": [
      "2.2556390977443663 0.0\n"
     ]
    }
   ],
   "source": [
    "# split 75% for training \n",
    "for i in range(30):\n",
    "    X_train, X_test, y_train, y_test = train_test_split(X, y, train_size=0.75, random_state=40,shuffle = True)\n",
    "\n",
    "# 75% training \n",
    "NB = GaussianNB()\n",
    "NB.fit(X_train, y_train)\n",
    "NB_train_pre = NB.predict(X_train)\n",
    "NB_test_pre = NB.predict(X_test)\n",
    "\n",
    "# 65% training\n",
    "resubstitution_error_NB6 = (1-metrics.accuracy_score(y_train, NB_train_pre))*100\n",
    "\n",
    "generalization_error_NB6 = (1 - metrics.accuracy_score(y_test, NB_test_pre)) * 100\n",
    "\n",
    "print resubstitution_error_NB6, generalization_error_NB6"
   ]
  },
  {
   "cell_type": "code",
   "execution_count": 535,
   "metadata": {},
   "outputs": [
    {
     "name": "stdout",
     "output_type": "stream",
     "text": [
      "0.6622516556291425 0.0\n"
     ]
    }
   ],
   "source": [
    "# split 85% for training \n",
    "for i in range(30):\n",
    "    X_train, X_test, y_train, y_test = train_test_split(X, y, train_size=0.85, random_state=60,shuffle = True)\n",
    "\n",
    "# 85% training \n",
    "DTree1 = DecisionTreeClassifier(min_samples_split=2,max_depth=3,\n",
    "                                min_samples_leaf=3,random_state=70)\n",
    "DTree1.fit(X_train,y_train)\n",
    "DT_test_pred = DTree1.predict(X_test)\n",
    "DT_train_pred = DTree1.predict(X_train)\n",
    "\n",
    "# 85% training\n",
    "resubstitution_error_tree7 = (1-metrics.accuracy_score(y_train, DT_train_pred))*100\n",
    "\n",
    "generalization_error_tree7 = (1 - metrics.accuracy_score(y_test, DT_test_pred)) * 100\n",
    "\n",
    "print resubstitution_error_tree7, generalization_error_tree7"
   ]
  },
  {
   "cell_type": "code",
   "execution_count": 579,
   "metadata": {},
   "outputs": [
    {
     "name": "stdout",
     "output_type": "stream",
     "text": [
      "2.6490066225165587 0.0\n"
     ]
    }
   ],
   "source": [
    "# split 85% for training \n",
    "for i in range(30):\n",
    "    X_train, X_test, y_train, y_test = train_test_split(X, y, train_size=0.85, random_state=60,shuffle = True)\n",
    "\n",
    "# 85% training \n",
    "NB = GaussianNB()\n",
    "NB.fit(X_train, y_train)\n",
    "NB_train_pre = NB.predict(X_train)\n",
    "NB_test_pre = NB.predict(X_test)\n",
    "\n",
    "# 85% training\n",
    "resubstitution_error_NB7 = (1-metrics.accuracy_score(y_train, NB_train_pre))*100\n",
    "\n",
    "generalization_error_NB7 = (1 - metrics.accuracy_score(y_test, NB_test_pre)) * 100\n",
    "\n",
    "print resubstitution_error_NB7, generalization_error_NB7"
   ]
  },
  {
   "cell_type": "code",
   "execution_count": null,
   "metadata": {
    "collapsed": true
   },
   "outputs": [],
   "source": [
    "resubstitution_error_tree = []\n",
    "resubstitution_error_tree.extend((resubstitution_error_tree1,resubstitution_error_tree2,\n",
    "                                 resubstitution_error_tree3,resubstitution_error_tree4,\n",
    "                                 resubstitution_error_tree5,resubstitution_error_tree6,\n",
    "                                 resubstitution_error_tree7))\n",
    "resubstitution_error_NB = []\n",
    "resubstitution_error_NB.extend((resubstitution_error_NB1,resubstitution_error_NB2,\n",
    "                                 resubstitution_error_NB3,resubstitution_error_NB4,\n",
    "                                 resubstitution_error_NB5,resubstitution_error_NB6,\n",
    "                                 resubstitution_error_NB7))\n",
    "\n",
    "generalization_error_tree = []\n",
    "generalization_error_NB = []\n",
    "\n",
    "generalization_error_tree.extend((generalization_error_tree1,generalization_error_tree2,\n",
    "                                 generalization_error_tree3,generalization_error_tree4,\n",
    "                                 generalization_error_tree5,generalization_error_tree6,\n",
    "                                 generalization_error_tree7))\n",
    "generalization_error_NB.extend((generalization_error_NB1,generalization_error_NB2,\n",
    "                               generalization_error_NB3,generalization_error_NB4,\n",
    "                               generalization_error_NB5,generalization_error_NB6,\n",
    "                               generalization_error_NB7))"
   ]
  },
  {
   "cell_type": "code",
   "execution_count": 611,
   "metadata": {},
   "outputs": [
    {
     "data": {
      "text/plain": [
       "[8.208955223880599,\n",
       " 6.034482758620685,\n",
       " 2.0408163265306145,\n",
       " 2.4691358024691357,\n",
       " 0.0,\n",
       " 0.0,\n",
       " 0.0]"
      ]
     },
     "execution_count": 611,
     "metadata": {},
     "output_type": "execute_result"
    }
   ],
   "source": [
    "generalization_error_NB"
   ]
  },
  {
   "cell_type": "code",
   "execution_count": 623,
   "metadata": {},
   "outputs": [
    {
     "data": {
      "image/png": "[encoded data removed]",
      "text/plain": [
       "<matplotlib.figure.Figure at 0x11513af90>"
      ]
     },
     "metadata": {},
     "output_type": "display_data"
    }
   ],
   "source": [
    "x = range(25,90,10)\n",
    "\n",
    "plt.xlabel(\"Percentage of Training set split\")\n",
    "plt.ylabel(\"Error Rates\")\n",
    "\n",
    "plt.plot(x, resubstitution_error_tree, label = \"resubstitution_error_tree\")\n",
    "plt.plot(x, resubstitution_error_NB, label = \"resubstitution_error_NB\")\n",
    "plt.plot(x, generalization_error_tree, label = \"generalization_error_tree\")\n",
    "plt.plot(x, generalization_error_NB, label = \"generalization_error_NB\")\n",
    "plt.legend(loc='center left', bbox_to_anchor=(1, 0.5))\n",
    "plt.show()"
   ]
  },
  {
   "cell_type": "code",
   "execution_count": 412,
   "metadata": {
    "collapsed": true
   },
   "outputs": [],
   "source": [
    "# Gaussian Navie Bayes classifier\n",
    "NB = GaussianNB()\n",
    "NB.fit(X_train, y_train)\n",
    "NB_train_pre = NB.predict(X_train)\n",
    "NB_test_pre = NB.predict(X_test)"
   ]
  },
  {
   "cell_type": "code",
   "execution_count": 413,
   "metadata": {},
   "outputs": [
    {
     "data": {
      "text/plain": [
       "234"
      ]
     },
     "execution_count": 413,
     "metadata": {},
     "output_type": "execute_result"
    }
   ],
   "source": [
    "n_train = len(X_train) + len(y_train)\n",
    "n_train"
   ]
  },
  {
   "cell_type": "code",
   "execution_count": 414,
   "metadata": {},
   "outputs": [
    {
     "data": {
      "text/plain": [
       "122"
      ]
     },
     "execution_count": 414,
     "metadata": {},
     "output_type": "execute_result"
    }
   ],
   "source": [
    "n_test = len(X_test) + len(y_test)\n",
    "n_test"
   ]
  },
  {
   "cell_type": "code",
   "execution_count": 415,
   "metadata": {},
   "outputs": [
    {
     "name": "stdout",
     "output_type": "stream",
     "text": [
      "Decision tree classifier testing set mean is: 0.0256073759866 and variance is: 0.0531147540984\n",
      "Decision tree classifier training set mean is: 0.0184900065408 and variance is: 0.0276923076923\n",
      "\n",
      "Decision tree classifier testing set Confidence Interval is: (0.06650365015094215, -0.015288898177783748)\n",
      "\n",
      "Decision tree classifier training set Confidence Interval is: (0.03981199563508148, -0.0028319825533995382)\n",
      "\n",
      "The accuracy on training data set is 0.9658119658119658\n",
      "\n",
      "The accuracy on testing data set is 0.9344262295081968\n"
     ]
    }
   ],
   "source": [
    "# Get Decision tree classifier train and test mean and variance\n",
    "outputs = []\n",
    "outputs1 = []\n",
    "\n",
    "RMSE_tree = sqrt(mean_squared_error(y_test,DT_test_pred))\n",
    "RMSE_tree1 = sqrt(mean_squared_error(y_train,DT_train_pred))\n",
    "\n",
    "outputs.append(RMSE_tree)\n",
    "outputs1.append(RMSE_tree1)\n",
    "\n",
    "\n",
    "mean_tree_test = sum(outputs)/10\n",
    "mean_tree_train = sum(outputs1)/10\n",
    "\n",
    "variance_tree_test = sum((x-mean_tree_test)**2 for x in outputs)\n",
    "variance_tree_train = sum((x-mean_tree_train)**2 for x in outputs1)\n",
    "\n",
    "std_tree_test = sqrt(variance_tree_test)\n",
    "std_tree_train = sqrt(variance_tree_train)\n",
    "\n",
    "CI_test = (mean_tree_test + 1.96*((std_tree_test)/sqrt(n_test)),\n",
    "           mean_tree_test - 1.96*((std_tree_test)/sqrt(n_test)))\n",
    "\n",
    "CI_train = (mean_tree_train + 1.96*((std_tree_train)/sqrt(n_train)),\n",
    "           mean_tree_train - 1.96*((std_tree_train)/sqrt(n_train)))\n",
    "\n",
    "print \"Decision tree classifier testing set mean is:\", mean_tree_test, \"and variance is:\", variance_tree_test\n",
    "print \"Decision tree classifier training set mean is:\", mean_tree_train, \"and variance is:\", variance_tree_train\n",
    "print \"\"\n",
    "\n",
    "print \"Decision tree classifier testing set Confidence Interval is:\", CI_test\n",
    "print \"\"\n",
    "print \"Decision tree classifier training set Confidence Interval is:\", CI_train\n",
    "print \"\"\n",
    "\n",
    "\n",
    "print \"The accuracy on training data set is\" ,metrics.accuracy_score(y_train, DT_train_pred)\n",
    "print \"\"\n",
    "print \"The accuracy on testing data set is\" ,metrics.accuracy_score(y_test, DT_test_pred)\n",
    "\n"
   ]
  },
  {
   "cell_type": "code",
   "execution_count": 416,
   "metadata": {},
   "outputs": [
    {
     "data": {
      "text/plain": [
       "0.9344262295081968"
      ]
     },
     "execution_count": 416,
     "metadata": {},
     "output_type": "execute_result"
    }
   ],
   "source": [
    "ACC_DT_test = metrics.accuracy_score(y_test, DT_test_pred)\n",
    "ACC_DT_test"
   ]
  },
  {
   "cell_type": "code",
   "execution_count": 421,
   "metadata": {},
   "outputs": [
    {
     "data": {
      "text/plain": [
       "0.9508196721311475"
      ]
     },
     "execution_count": 421,
     "metadata": {},
     "output_type": "execute_result"
    }
   ],
   "source": [
    "ACC_NB_test = metrics.accuracy_score(y_test, NB_test_pre)\n",
    "ACC_NB_test"
   ]
  },
  {
   "cell_type": "code",
   "execution_count": 418,
   "metadata": {},
   "outputs": [
    {
     "name": "stdout",
     "output_type": "stream",
     "text": [
      "Navie Bayes classifier testing set mean is: 0.0221766381286 and variance is: 0.0398360655738\n",
      "Navie Bayes classifier training set mean is: 0.0130744090092 and variance is: 0.0138461538462\n",
      "\n",
      "Navie Bayes classifier testing set Confidence Interval is: (0.057593850475108704, -0.013240574217834335)\n",
      "\n",
      "Navie Bayes classifier training set Confidence Interval is: (0.02815133208613535, -0.0020025140677108096)\n",
      "\n",
      "The accuracy on training data set is 0.9829059829059829\n",
      "\n",
      "The accuracy on testing data set is 0.9508196721311475\n"
     ]
    }
   ],
   "source": [
    "# Get Navie Bayes classifier train and test mean and variance\n",
    "lists = []\n",
    "lists1 = []\n",
    "\n",
    "RMSE_NB = sqrt(mean_squared_error(y_test,NB_test_pre))\n",
    "RMSE_NB1 = sqrt(mean_squared_error(y_train,NB_train_pre))\n",
    "\n",
    "lists.append(RMSE_NB)\n",
    "lists1.append(RMSE_NB1)\n",
    "\n",
    "\n",
    "mean_NB_test = sum(lists)/10\n",
    "mean_NB_train = sum(lists1)/10\n",
    "\n",
    "variance_NB_test = sum((x-mean_NB_test)**2 for x in lists)\n",
    "variance_NB_train = sum((x-mean_NB_train)**2 for x in lists1)\n",
    "\n",
    "std_NB_test = sqrt(variance_NB_test)\n",
    "std_NB_train = sqrt(variance_NB_train)\n",
    "\n",
    "CI_NB_test = (mean_NB_test + 1.96*((std_NB_test)/sqrt(n_test)),\n",
    "           mean_NB_test - 1.96*((std_NB_test)/sqrt(n_test)))\n",
    "\n",
    "CI_NB_train = (mean_NB_train + 1.96*((std_NB_train)/sqrt(n_train)),\n",
    "           mean_NB_train - 1.96*((std_NB_train)/sqrt(n_train)))\n",
    "\n",
    "print \"Navie Bayes classifier testing set mean is:\", mean_NB_test, \"and variance is:\", variance_NB_test\n",
    "print \"Navie Bayes classifier training set mean is:\", mean_NB_train, \"and variance is:\", variance_NB_train\n",
    "print \"\"\n",
    "\n",
    "print \"Navie Bayes classifier testing set Confidence Interval is:\", CI_NB_test\n",
    "print \"\"\n",
    "print \"Navie Bayes classifier training set Confidence Interval is:\", CI_NB_train\n",
    "print \"\"\n",
    "\n",
    "\n",
    "print \"The accuracy on training data set is\" ,metrics.accuracy_score(y_train, NB_train_pre)\n",
    "print \"\"\n",
    "print \"The accuracy on testing data set is\" ,metrics.accuracy_score(y_test, NB_test_pre)\n"
   ]
  },
  {
   "cell_type": "code",
   "execution_count": 430,
   "metadata": {},
   "outputs": [
    {
     "data": {
      "text/plain": [
       "Ttest_relResult(statistic=-2.3145502494313788, pvalue=0.024077327443763293)"
      ]
     },
     "execution_count": 430,
     "metadata": {},
     "output_type": "execute_result"
    }
   ],
   "source": [
    "# Using a pair t-test, compare the mean accuracy of the Naïve Bayes \n",
    "#and the mean accuracy of the Decision tree and discuss the results.\n",
    "stats.ttest_rel(NB_test_pre,DT_test_pred)"
   ]
  },
  {
   "cell_type": "code",
   "execution_count": 271,
   "metadata": {},
   "outputs": [
    {
     "name": "stdout",
     "output_type": "stream",
     "text": [
      "(-0.36487801596637665, 0.2009435897368687)\n"
     ]
    }
   ],
   "source": [
    "import numpy as np, statsmodels.stats.api as sms\n",
    "\n",
    "cm = sms.CompareMeans(sms.DescrStatsW(NB_test_pre), sms.DescrStatsW(DT_test_pred))\n",
    "print cm.tconfint_diff(usevar='unequal')"
   ]
  },
  {
   "cell_type": "code",
   "execution_count": 218,
   "metadata": {
    "collapsed": true
   },
   "outputs": [],
   "source": [
    "DT_acc_train = metrics.accuracy_score(y_train, DT_train_pred)\n",
    "DT_acc_test = metrics.accuracy_score(y_test, DT_test_pred)"
   ]
  },
  {
   "cell_type": "code",
   "execution_count": 219,
   "metadata": {},
   "outputs": [],
   "source": [
    "NB_acc_train = metrics.accuracy_score(y_train, NB_train_pre)\n",
    "NB_acc_test = metrics.accuracy_score(y_test, NB_test_pre)"
   ]
  },
  {
   "cell_type": "markdown",
   "metadata": {},
   "source": [
    "## Problem 3 a.\tRepeat Problem 2.b from Assignment#1 on the Wine Recognition Dataset but this time considering only two classes (let us say, class 1 (positive class) versus class 2 and class 3 (negative class) since the ROC and lift curves can only be drawn for binary classification problems)."
   ]
  },
  {
   "cell_type": "code",
   "execution_count": 1292,
   "metadata": {},
   "outputs": [],
   "source": [
    "y1 = y\n",
    "X1 = X"
   ]
  },
  {
   "cell_type": "code",
   "execution_count": 1293,
   "metadata": {
    "collapsed": true
   },
   "outputs": [],
   "source": [
    "# transform class 1 to positive value 1, and class 2 and 3 to 0 (negative value)\n",
    "def transform (y):\n",
    "    return (y==1) *1"
   ]
  },
  {
   "cell_type": "code",
   "execution_count": 1294,
   "metadata": {},
   "outputs": [],
   "source": [
    "# transform y1 'class'\n",
    "y1 = transform(y1)"
   ]
  },
  {
   "cell_type": "code",
   "execution_count": 1269,
   "metadata": {},
   "outputs": [],
   "source": [
    "# split 66% for training and 34% for testing\n",
    "for i in range(30):\n",
    "    X_train, X_test, y_train, y_test = train_test_split(X, y1, test_size=0.34, random_state=0,shuffle = True)\n",
    "    \n",
    "# normalized the data\n",
    "scaler = StandardScaler()\n",
    "scaler.fit(X_train)\n",
    "X_train = scaler.transform(X_train)\n",
    "X_test = scaler.transform(X_test)\n",
    "\n",
    "NB = GaussianNB()\n",
    "NB.fit(X_train, y_train)\n",
    "NB_train_pre = NB.predict(X_train)\n",
    "NB_test_pre = NB.predict(X_test)"
   ]
  },
  {
   "cell_type": "code",
   "execution_count": 1263,
   "metadata": {},
   "outputs": [],
   "source": [
    "from sklearn import metrics\n",
    "from ggplot import *\n",
    "# ROC on testing set\n",
    "fpr, tpr, threshold= metrics.roc_curve(y_test, NB_test_pre)\n",
    "roc_auc = metrics.auc(fpr, tpr)\n",
    "# ROC on training set\n",
    "fpr1,tpr1, threshold = metrics.roc_curve(y_train, NB_train_pre)\n",
    "roc_auc1 = metrics.auc(fpr1, tpr1)"
   ]
  },
  {
   "cell_type": "code",
   "execution_count": 1209,
   "metadata": {},
   "outputs": [
    {
     "data": {
      "text/plain": [
       "array([2, 1, 0])"
      ]
     },
     "execution_count": 1209,
     "metadata": {},
     "output_type": "execute_result"
    }
   ],
   "source": [
    "threshold"
   ]
  },
  {
   "cell_type": "code",
   "execution_count": 714,
   "metadata": {},
   "outputs": [
    {
     "data": {
      "image/png": "[encoded data removed]",
      "text/plain": [
       "<matplotlib.figure.Figure at 0x115bb4c90>"
      ]
     },
     "metadata": {},
     "output_type": "display_data"
    },
    {
     "data": {
      "text/plain": [
       "<ggplot: (291222737)>"
      ]
     },
     "execution_count": 714,
     "metadata": {},
     "output_type": "execute_result"
    }
   ],
   "source": [
    "# make a dataframe for fpr and tpr\n",
    "df2 = pd.DataFrame(dict(fpr=fpr, tpr=tpr))\n",
    "ggplot(df2, aes(x='fpr', y='tpr')) +\\\n",
    "    geom_line(color='red') +\\\n",
    "    geom_abline(linetype='dashed') +\\\n",
    "    ggtitle(\"ROC on Testing data\")"
   ]
  },
  {
   "cell_type": "code",
   "execution_count": 1311,
   "metadata": {
    "scrolled": true
   },
   "outputs": [
    {
     "data": {
      "image/png": "[encoded data removed]",
      "text/plain": [
       "<matplotlib.figure.Figure at 0x119385e90>"
      ]
     },
     "metadata": {},
     "output_type": "display_data"
    },
    {
     "data": {
      "text/plain": [
       "<ggplot: (294884085)>"
      ]
     },
     "execution_count": 1311,
     "metadata": {},
     "output_type": "execute_result"
    }
   ],
   "source": [
    "# make a dataframe for fpr and tpr\n",
    "df3 = pd.DataFrame(dict(fpr1=fpr1, tpr1=tpr1))\n",
    "ggplot(df3, aes(x='fpr1', y='tpr1')) +\\\n",
    "    geom_line(color='red') +\\\n",
    "    geom_abline(linetype='dashed') +\\\n",
    "    ggtitle(\"ROC on Training data\")"
   ]
  },
  {
   "cell_type": "code",
   "execution_count": 1305,
   "metadata": {},
   "outputs": [],
   "source": [
    "# split 66% for training and 34% for testing\n",
    "for i in range(30):\n",
    "    X_train, X_test, y_train, y_test = train_test_split(X, y1, test_size=0.34, random_state=0,shuffle = True)\n",
    "    \n",
    "# normalized the data\n",
    "scaler = StandardScaler()\n",
    "scaler.fit(X_train)\n",
    "X_train = scaler.transform(X_train)\n",
    "X_test = scaler.transform(X_test)\n",
    "\n",
    "NB = GaussianNB()\n",
    "NB.fit(X_train, y_train)\n",
    "NB_train_pre = NB.predict(X_train)\n",
    "NB_test_pre = NB.predict(X_test)"
   ]
  },
  {
   "cell_type": "code",
   "execution_count": 1309,
   "metadata": {
    "collapsed": true
   },
   "outputs": [],
   "source": [
    "nb_probas = NB.fit(X_train, y_train).predict_proba(X_test)\n",
    "train_probas = NB.fit(X_train, y_train).predict_proba(X_train)"
   ]
  },
  {
   "cell_type": "code",
   "execution_count": 1310,
   "metadata": {},
   "outputs": [
    {
     "data": {
      "image/png": "[encoded data removed]",
      "text/plain": [
       "<matplotlib.figure.Figure at 0x11ad2a1d0>"
      ]
     },
     "metadata": {},
     "output_type": "display_data"
    }
   ],
   "source": [
    "skplt.metrics.plot_lift_curve(y_train, train_probas)\n",
    "plt.legend(loc='center left', bbox_to_anchor=(1, 0.5))\n",
    "plt.title(\"Training Lift Curve\")\n",
    "plt.ylabel(\"Number of responses\")\n",
    "plt.show()"
   ]
  },
  {
   "cell_type": "code",
   "execution_count": 1307,
   "metadata": {},
   "outputs": [
    {
     "data": {
      "image/png": "[encoded data removed]",
      "text/plain": [
       "<matplotlib.figure.Figure at 0x118b63750>"
      ]
     },
     "metadata": {},
     "output_type": "display_data"
    }
   ],
   "source": [
    "skplt.metrics.plot_lift_curve(y_test, nb_probas)\n",
    "plt.legend(loc='center left', bbox_to_anchor=(1, 0.5))\n",
    "plt.title(\"Testing Lift Curve\")\n",
    "plt.ylabel(\"Number of responses\")\n",
    "plt.show()"
   ]
  },
  {
   "cell_type": "markdown",
   "metadata": {},
   "source": [
    "### Problem 4: \n",
    "### The breast cancer Wisconsin dataset consists of 569 instances and 32 features.  The class variable represents diagnosis (M=malignant, B=benign) and the features are computed from a digitized image of a fine needle aspirate (FNA) of a breast mass. They describe characteristics of the cell nuclei present in the image. "
   ]
  },
  {
   "cell_type": "code",
   "execution_count": 1164,
   "metadata": {
    "collapsed": true
   },
   "outputs": [],
   "source": [
    "# read wisconsin cancer data\n",
    "data = pd.read_csv('/Users/ivy/Desktop/CSC529 /Assignments/wisconsin.csv')\n",
    "dfw = data.copy(deep=True)"
   ]
  },
  {
   "cell_type": "code",
   "execution_count": 1165,
   "metadata": {},
   "outputs": [
    {
     "data": {
      "text/plain": [
       "(569, 32)"
      ]
     },
     "execution_count": 1165,
     "metadata": {},
     "output_type": "execute_result"
    }
   ],
   "source": [
    "dfw.shape"
   ]
  },
  {
   "cell_type": "code",
   "execution_count": 1166,
   "metadata": {},
   "outputs": [
    {
     "data": {
      "text/html": [
       "<div>\n",
       "<style scoped>\n",
       "    .dataframe tbody tr th:only-of-type {\n",
       "        vertical-align: middle;\n",
       "    }\n",
       "\n",
       "    .dataframe tbody tr th {\n",
       "        vertical-align: top;\n",
       "    }\n",
       "\n",
       "    .dataframe thead th {\n",
       "        text-align: right;\n",
       "    }\n",
       "</style>\n",
       "<table border=\"1\" class=\"dataframe\">\n",
       "  <thead>\n",
       "    <tr style=\"text-align: right;\">\n",
       "      <th></th>\n",
       "      <th>id</th>\n",
       "      <th>diagnosis</th>\n",
       "      <th>radius_mean</th>\n",
       "      <th>texture_mean</th>\n",
       "      <th>perimeter_mean</th>\n",
       "      <th>area_mean</th>\n",
       "      <th>smoothness_mean</th>\n",
       "      <th>compactness_mean</th>\n",
       "      <th>concavity_mean</th>\n",
       "      <th>concave points_mean</th>\n",
       "      <th>...</th>\n",
       "      <th>radius_worst</th>\n",
       "      <th>texture_worst</th>\n",
       "      <th>perimeter_worst</th>\n",
       "      <th>area_worst</th>\n",
       "      <th>smoothness_worst</th>\n",
       "      <th>compactness_worst</th>\n",
       "      <th>concavity_worst</th>\n",
       "      <th>concave points_worst</th>\n",
       "      <th>symmetry_worst</th>\n",
       "      <th>fractal_dimension_worst</th>\n",
       "    </tr>\n",
       "  </thead>\n",
       "  <tbody>\n",
       "    <tr>\n",
       "      <th>0</th>\n",
       "      <td>842302</td>\n",
       "      <td>M</td>\n",
       "      <td>17.99</td>\n",
       "      <td>10.38</td>\n",
       "      <td>122.80</td>\n",
       "      <td>1001.0</td>\n",
       "      <td>0.11840</td>\n",
       "      <td>0.27760</td>\n",
       "      <td>0.3001</td>\n",
       "      <td>0.14710</td>\n",
       "      <td>...</td>\n",
       "      <td>25.38</td>\n",
       "      <td>17.33</td>\n",
       "      <td>184.60</td>\n",
       "      <td>2019.0</td>\n",
       "      <td>0.1622</td>\n",
       "      <td>0.6656</td>\n",
       "      <td>0.7119</td>\n",
       "      <td>0.2654</td>\n",
       "      <td>0.4601</td>\n",
       "      <td>0.11890</td>\n",
       "    </tr>\n",
       "    <tr>\n",
       "      <th>1</th>\n",
       "      <td>842517</td>\n",
       "      <td>M</td>\n",
       "      <td>20.57</td>\n",
       "      <td>17.77</td>\n",
       "      <td>132.90</td>\n",
       "      <td>1326.0</td>\n",
       "      <td>0.08474</td>\n",
       "      <td>0.07864</td>\n",
       "      <td>0.0869</td>\n",
       "      <td>0.07017</td>\n",
       "      <td>...</td>\n",
       "      <td>24.99</td>\n",
       "      <td>23.41</td>\n",
       "      <td>158.80</td>\n",
       "      <td>1956.0</td>\n",
       "      <td>0.1238</td>\n",
       "      <td>0.1866</td>\n",
       "      <td>0.2416</td>\n",
       "      <td>0.1860</td>\n",
       "      <td>0.2750</td>\n",
       "      <td>0.08902</td>\n",
       "    </tr>\n",
       "    <tr>\n",
       "      <th>2</th>\n",
       "      <td>84300903</td>\n",
       "      <td>M</td>\n",
       "      <td>19.69</td>\n",
       "      <td>21.25</td>\n",
       "      <td>130.00</td>\n",
       "      <td>1203.0</td>\n",
       "      <td>0.10960</td>\n",
       "      <td>0.15990</td>\n",
       "      <td>0.1974</td>\n",
       "      <td>0.12790</td>\n",
       "      <td>...</td>\n",
       "      <td>23.57</td>\n",
       "      <td>25.53</td>\n",
       "      <td>152.50</td>\n",
       "      <td>1709.0</td>\n",
       "      <td>0.1444</td>\n",
       "      <td>0.4245</td>\n",
       "      <td>0.4504</td>\n",
       "      <td>0.2430</td>\n",
       "      <td>0.3613</td>\n",
       "      <td>0.08758</td>\n",
       "    </tr>\n",
       "    <tr>\n",
       "      <th>3</th>\n",
       "      <td>84348301</td>\n",
       "      <td>M</td>\n",
       "      <td>11.42</td>\n",
       "      <td>20.38</td>\n",
       "      <td>77.58</td>\n",
       "      <td>386.1</td>\n",
       "      <td>0.14250</td>\n",
       "      <td>0.28390</td>\n",
       "      <td>0.2414</td>\n",
       "      <td>0.10520</td>\n",
       "      <td>...</td>\n",
       "      <td>14.91</td>\n",
       "      <td>26.50</td>\n",
       "      <td>98.87</td>\n",
       "      <td>567.7</td>\n",
       "      <td>0.2098</td>\n",
       "      <td>0.8663</td>\n",
       "      <td>0.6869</td>\n",
       "      <td>0.2575</td>\n",
       "      <td>0.6638</td>\n",
       "      <td>0.17300</td>\n",
       "    </tr>\n",
       "    <tr>\n",
       "      <th>4</th>\n",
       "      <td>84358402</td>\n",
       "      <td>M</td>\n",
       "      <td>20.29</td>\n",
       "      <td>14.34</td>\n",
       "      <td>135.10</td>\n",
       "      <td>1297.0</td>\n",
       "      <td>0.10030</td>\n",
       "      <td>0.13280</td>\n",
       "      <td>0.1980</td>\n",
       "      <td>0.10430</td>\n",
       "      <td>...</td>\n",
       "      <td>22.54</td>\n",
       "      <td>16.67</td>\n",
       "      <td>152.20</td>\n",
       "      <td>1575.0</td>\n",
       "      <td>0.1374</td>\n",
       "      <td>0.2050</td>\n",
       "      <td>0.4000</td>\n",
       "      <td>0.1625</td>\n",
       "      <td>0.2364</td>\n",
       "      <td>0.07678</td>\n",
       "    </tr>\n",
       "  </tbody>\n",
       "</table>\n",
       "<p>5 rows × 32 columns</p>\n",
       "</div>"
      ],
      "text/plain": [
       "         id diagnosis  radius_mean  texture_mean  perimeter_mean  area_mean  \\\n",
       "0    842302         M        17.99         10.38          122.80     1001.0   \n",
       "1    842517         M        20.57         17.77          132.90     1326.0   \n",
       "2  84300903         M        19.69         21.25          130.00     1203.0   \n",
       "3  84348301         M        11.42         20.38           77.58      386.1   \n",
       "4  84358402         M        20.29         14.34          135.10     1297.0   \n",
       "\n",
       "   smoothness_mean  compactness_mean  concavity_mean  concave points_mean  \\\n",
       "0          0.11840           0.27760          0.3001              0.14710   \n",
       "1          0.08474           0.07864          0.0869              0.07017   \n",
       "2          0.10960           0.15990          0.1974              0.12790   \n",
       "3          0.14250           0.28390          0.2414              0.10520   \n",
       "4          0.10030           0.13280          0.1980              0.10430   \n",
       "\n",
       "            ...             radius_worst  texture_worst  perimeter_worst  \\\n",
       "0           ...                    25.38          17.33           184.60   \n",
       "1           ...                    24.99          23.41           158.80   \n",
       "2           ...                    23.57          25.53           152.50   \n",
       "3           ...                    14.91          26.50            98.87   \n",
       "4           ...                    22.54          16.67           152.20   \n",
       "\n",
       "   area_worst  smoothness_worst  compactness_worst  concavity_worst  \\\n",
       "0      2019.0            0.1622             0.6656           0.7119   \n",
       "1      1956.0            0.1238             0.1866           0.2416   \n",
       "2      1709.0            0.1444             0.4245           0.4504   \n",
       "3       567.7            0.2098             0.8663           0.6869   \n",
       "4      1575.0            0.1374             0.2050           0.4000   \n",
       "\n",
       "   concave points_worst  symmetry_worst  fractal_dimension_worst  \n",
       "0                0.2654          0.4601                  0.11890  \n",
       "1                0.1860          0.2750                  0.08902  \n",
       "2                0.2430          0.3613                  0.08758  \n",
       "3                0.2575          0.6638                  0.17300  \n",
       "4                0.1625          0.2364                  0.07678  \n",
       "\n",
       "[5 rows x 32 columns]"
      ]
     },
     "execution_count": 1166,
     "metadata": {},
     "output_type": "execute_result"
    }
   ],
   "source": [
    "dfw.head()"
   ]
  },
  {
   "cell_type": "code",
   "execution_count": 1167,
   "metadata": {},
   "outputs": [
    {
     "data": {
      "text/plain": [
       "B    357\n",
       "M    212\n",
       "Name: diagnosis, dtype: int64"
      ]
     },
     "execution_count": 1167,
     "metadata": {},
     "output_type": "execute_result"
    }
   ],
   "source": [
    "dfw['diagnosis'].value_counts()"
   ]
  },
  {
   "cell_type": "code",
   "execution_count": 1168,
   "metadata": {
    "collapsed": true
   },
   "outputs": [],
   "source": [
    "# map dataframe to integer value\n",
    "dfw['diagnosis']=dfw['diagnosis'].map({'M':1,'B':0})"
   ]
  },
  {
   "cell_type": "code",
   "execution_count": 1169,
   "metadata": {},
   "outputs": [],
   "source": [
    "y = dfw['diagnosis'].values\n",
    "X = dfw.loc[:, 'diagnosis':].values"
   ]
  },
  {
   "cell_type": "code",
   "execution_count": 1170,
   "metadata": {
    "collapsed": true
   },
   "outputs": [],
   "source": [
    "X_train, X_test, y_train, y_test = train_test_split(X, y, test_size=0.20, random_state=42,shuffle = True)"
   ]
  },
  {
   "cell_type": "code",
   "execution_count": 1171,
   "metadata": {},
   "outputs": [],
   "source": [
    "# normalized the data\n",
    "scaler = StandardScaler()\n",
    "scaler.fit(X_train)\n",
    "X_train = scaler.transform(X_train)\n",
    "X_test = scaler.transform(X_test)"
   ]
  },
  {
   "cell_type": "code",
   "execution_count": 1097,
   "metadata": {},
   "outputs": [
    {
     "data": {
      "text/plain": [
       "0"
      ]
     },
     "execution_count": 1097,
     "metadata": {},
     "output_type": "execute_result"
    }
   ],
   "source": [
    "dfw.isnull().sum().sum()"
   ]
  },
  {
   "cell_type": "code",
   "execution_count": 1172,
   "metadata": {},
   "outputs": [
    {
     "data": {
      "text/plain": [
       "{'criterion': 'gini',\n",
       " 'max_depth': 2,\n",
       " 'min_samples_leaf': 2,\n",
       " 'min_samples_split': 2}"
      ]
     },
     "execution_count": 1172,
     "metadata": {},
     "output_type": "execute_result"
    }
   ],
   "source": [
    "tree = DecisionTreeClassifier()\n",
    "\n",
    "param_grid = {'criterion':['gini','entropy'],'max_depth': np.arange(2, 10), \n",
    "              'min_samples_split':np.arange(2,10),'min_samples_leaf':np.arange(2,10)}\n",
    "gs_tree = GridSearchCV(tree, param_grid, cv=10)\n",
    "gs_tree.fit(X_train,y_train)\n",
    "gs_tree.best_params_"
   ]
  },
  {
   "cell_type": "code",
   "execution_count": 1180,
   "metadata": {},
   "outputs": [
    {
     "data": {
      "image/png": "[encoded data removed]",
      "text/plain": [
       "<matplotlib.figure.Figure at 0x114512ed0>"
      ]
     },
     "metadata": {},
     "output_type": "display_data"
    }
   ],
   "source": [
    "# Bagged Decision Trees for Classification\n",
    "from sklearn.ensemble import BaggingClassifier\n",
    "from sklearn import model_selection\n",
    "\n",
    "\n",
    "#training_accuracy = []\n",
    "#test_accuracy = []\n",
    "\n",
    "train_error = []\n",
    "test_error = []\n",
    "\n",
    "max_dep = range(1,10)\n",
    "\n",
    "for md in max_dep:\n",
    "    tree = DecisionTreeClassifier(max_depth=md,random_state=100)\n",
    "    \n",
    "    bagging = BaggingClassifier(base_estimator=tree,random_state=10,max_samples=0.5, max_features=0.5)\n",
    "    bagging.fit(X_train,y_train)\n",
    "    bagging_test_pred = bagging.predict(X_test)\n",
    "    bagging_train_pred = bagging.predict(X_train)\n",
    "    \n",
    "    #training_accuracy.append(bagging.score(X_train, y_train))\n",
    "    #test_accuracy.append(bagging.score(X_test, y_test))\n",
    "    \n",
    "    train_error.append((1-bagging.score(X_train, y_train))*100)\n",
    "    test_error.append((1-bagging.score(X_test, y_test))*100)\n",
    "\n",
    "plt.plot(max_dep,train_error, label='Error rate of the training set')\n",
    "plt.plot(max_dep,test_error, label='Error rate of the test set')\n",
    "plt.ylabel('Error Rate')\n",
    "plt.xlabel('Number of trees')\n",
    "plt.title(\"Breast Cancer of Wisconsin\")\n",
    "plt.legend(loc='center left', bbox_to_anchor=(1, 0.5))\n",
    "plt.show()"
   ]
  },
  {
   "cell_type": "markdown",
   "metadata": {},
   "source": [
    "##### plot accuracy score\n",
    "plt.plot(max_dep,training_accuracy, label='Accuracy of the training set')\n",
    "plt.plot(max_dep,test_accuracy, label='Accuracy of the test set')\n",
    "plt.ylabel('Accuracy')\n",
    "plt.xlabel('Number of trees')\n",
    "plt.legend(loc='center left', bbox_to_anchor=(1, 0.5))\n",
    "plt.show()"
   ]
  },
  {
   "cell_type": "markdown",
   "metadata": {},
   "source": [
    "## Extra credit on winequality and banknote"
   ]
  },
  {
   "cell_type": "code",
   "execution_count": 1210,
   "metadata": {},
   "outputs": [
    {
     "data": {
      "text/html": [
       "<div>\n",
       "<style scoped>\n",
       "    .dataframe tbody tr th:only-of-type {\n",
       "        vertical-align: middle;\n",
       "    }\n",
       "\n",
       "    .dataframe tbody tr th {\n",
       "        vertical-align: top;\n",
       "    }\n",
       "\n",
       "    .dataframe thead th {\n",
       "        text-align: right;\n",
       "    }\n",
       "</style>\n",
       "<table border=\"1\" class=\"dataframe\">\n",
       "  <thead>\n",
       "    <tr style=\"text-align: right;\">\n",
       "      <th></th>\n",
       "      <th>fixed acidity</th>\n",
       "      <th>volatile acidity</th>\n",
       "      <th>citric acid</th>\n",
       "      <th>residual sugar</th>\n",
       "      <th>chlorides</th>\n",
       "      <th>free sulfur dioxide</th>\n",
       "      <th>total sulfur dioxide</th>\n",
       "      <th>density</th>\n",
       "      <th>pH</th>\n",
       "      <th>sulphates</th>\n",
       "      <th>alcohol</th>\n",
       "      <th>quality</th>\n",
       "    </tr>\n",
       "  </thead>\n",
       "  <tbody>\n",
       "    <tr>\n",
       "      <th>0</th>\n",
       "      <td>7.4</td>\n",
       "      <td>0.70</td>\n",
       "      <td>0.00</td>\n",
       "      <td>1.9</td>\n",
       "      <td>0.076</td>\n",
       "      <td>11.0</td>\n",
       "      <td>34.0</td>\n",
       "      <td>0.9978</td>\n",
       "      <td>3.51</td>\n",
       "      <td>0.56</td>\n",
       "      <td>9.4</td>\n",
       "      <td>5</td>\n",
       "    </tr>\n",
       "    <tr>\n",
       "      <th>1</th>\n",
       "      <td>7.8</td>\n",
       "      <td>0.88</td>\n",
       "      <td>0.00</td>\n",
       "      <td>2.6</td>\n",
       "      <td>0.098</td>\n",
       "      <td>25.0</td>\n",
       "      <td>67.0</td>\n",
       "      <td>0.9968</td>\n",
       "      <td>3.20</td>\n",
       "      <td>0.68</td>\n",
       "      <td>9.8</td>\n",
       "      <td>5</td>\n",
       "    </tr>\n",
       "    <tr>\n",
       "      <th>2</th>\n",
       "      <td>7.8</td>\n",
       "      <td>0.76</td>\n",
       "      <td>0.04</td>\n",
       "      <td>2.3</td>\n",
       "      <td>0.092</td>\n",
       "      <td>15.0</td>\n",
       "      <td>54.0</td>\n",
       "      <td>0.9970</td>\n",
       "      <td>3.26</td>\n",
       "      <td>0.65</td>\n",
       "      <td>9.8</td>\n",
       "      <td>5</td>\n",
       "    </tr>\n",
       "    <tr>\n",
       "      <th>3</th>\n",
       "      <td>11.2</td>\n",
       "      <td>0.28</td>\n",
       "      <td>0.56</td>\n",
       "      <td>1.9</td>\n",
       "      <td>0.075</td>\n",
       "      <td>17.0</td>\n",
       "      <td>60.0</td>\n",
       "      <td>0.9980</td>\n",
       "      <td>3.16</td>\n",
       "      <td>0.58</td>\n",
       "      <td>9.8</td>\n",
       "      <td>6</td>\n",
       "    </tr>\n",
       "    <tr>\n",
       "      <th>4</th>\n",
       "      <td>7.4</td>\n",
       "      <td>0.70</td>\n",
       "      <td>0.00</td>\n",
       "      <td>1.9</td>\n",
       "      <td>0.076</td>\n",
       "      <td>11.0</td>\n",
       "      <td>34.0</td>\n",
       "      <td>0.9978</td>\n",
       "      <td>3.51</td>\n",
       "      <td>0.56</td>\n",
       "      <td>9.4</td>\n",
       "      <td>5</td>\n",
       "    </tr>\n",
       "  </tbody>\n",
       "</table>\n",
       "</div>"
      ],
      "text/plain": [
       "   fixed acidity  volatile acidity  citric acid  residual sugar  chlorides  \\\n",
       "0            7.4              0.70         0.00             1.9      0.076   \n",
       "1            7.8              0.88         0.00             2.6      0.098   \n",
       "2            7.8              0.76         0.04             2.3      0.092   \n",
       "3           11.2              0.28         0.56             1.9      0.075   \n",
       "4            7.4              0.70         0.00             1.9      0.076   \n",
       "\n",
       "   free sulfur dioxide  total sulfur dioxide  density    pH  sulphates  \\\n",
       "0                 11.0                  34.0   0.9978  3.51       0.56   \n",
       "1                 25.0                  67.0   0.9968  3.20       0.68   \n",
       "2                 15.0                  54.0   0.9970  3.26       0.65   \n",
       "3                 17.0                  60.0   0.9980  3.16       0.58   \n",
       "4                 11.0                  34.0   0.9978  3.51       0.56   \n",
       "\n",
       "   alcohol  quality  \n",
       "0      9.4        5  \n",
       "1      9.8        5  \n",
       "2      9.8        5  \n",
       "3      9.8        6  \n",
       "4      9.4        5  "
      ]
     },
     "execution_count": 1210,
     "metadata": {},
     "output_type": "execute_result"
    }
   ],
   "source": [
    "data = pd.read_csv('/Users/ivy/Desktop/CSC529 /Assignments/HW3/winequality_red.csv')\n",
    "dfwine = data.copy(deep=True)\n",
    "dfwine.head()"
   ]
  },
  {
   "cell_type": "code",
   "execution_count": 1211,
   "metadata": {},
   "outputs": [
    {
     "data": {
      "text/plain": [
       "5    681\n",
       "6    638\n",
       "7    199\n",
       "4     53\n",
       "8     18\n",
       "3     10\n",
       "Name: quality, dtype: int64"
      ]
     },
     "execution_count": 1211,
     "metadata": {},
     "output_type": "execute_result"
    }
   ],
   "source": [
    "dfwine.quality.value_counts()"
   ]
  },
  {
   "cell_type": "code",
   "execution_count": 1212,
   "metadata": {},
   "outputs": [
    {
     "data": {
      "text/plain": [
       "0"
      ]
     },
     "execution_count": 1212,
     "metadata": {},
     "output_type": "execute_result"
    }
   ],
   "source": [
    "dfwine.isnull().sum().sum()"
   ]
  },
  {
   "cell_type": "code",
   "execution_count": 1213,
   "metadata": {
    "collapsed": true
   },
   "outputs": [],
   "source": [
    "y = dfwine['quality']#.values\n",
    "X = dfwine.drop('quality', axis = 1)#.values"
   ]
  },
  {
   "cell_type": "code",
   "execution_count": 1217,
   "metadata": {},
   "outputs": [
    {
     "name": "stdout",
     "output_type": "stream",
     "text": [
      "28.57142857142857 45.666666666666664\n",
      "43.10776942355889 47.75\n"
     ]
    }
   ],
   "source": [
    "# split 25% for training \n",
    "for i in range(30):\n",
    "    X_train, X_test, y_train, y_test = train_test_split(X, y, train_size=0.25, random_state=10,shuffle = True)\n",
    "\n",
    "# on 25% training\n",
    "DTree1 = DecisionTreeClassifier(min_samples_split=3,max_depth=5,\n",
    "                                min_samples_leaf=9,random_state=10)\n",
    "DTree1.fit(X_train,y_train)\n",
    "DT_test_pred = DTree1.predict(X_test)\n",
    "DT_train_pred = DTree1.predict(X_train)\n",
    "\n",
    "# 25% training\n",
    "resubstitution_error_tree1 = (1-metrics.accuracy_score(y_train, DT_train_pred))*100\n",
    "\n",
    "generalization_error_tree1 = (1 - metrics.accuracy_score(y_test, DT_test_pred)) * 100\n",
    "\n",
    "print resubstitution_error_tree1, generalization_error_tree1\n",
    "\n",
    "# on 25% training\n",
    "NB = GaussianNB()\n",
    "NB.fit(X_train, y_train)\n",
    "NB_train_pre = NB.predict(X_train)\n",
    "NB_test_pre = NB.predict(X_test)\n",
    "\n",
    "# 25% training\n",
    "resubstitution_error_NB1 = (1-metrics.accuracy_score(y_train, NB_train_pre))*100\n",
    "\n",
    "generalization_error_NB1 = (1 - metrics.accuracy_score(y_test, NB_test_pre)) * 100\n",
    "\n",
    "print resubstitution_error_NB1, generalization_error_NB1"
   ]
  },
  {
   "cell_type": "code",
   "execution_count": 1220,
   "metadata": {},
   "outputs": [
    {
     "name": "stdout",
     "output_type": "stream",
     "text": [
      "29.87477638640429 40.38461538461539\n",
      "43.291592128801426 47.21153846153846\n"
     ]
    }
   ],
   "source": [
    "# split 35% for training \n",
    "for i in range(30):\n",
    "    X_train, X_test, y_train, y_test = train_test_split(X, y, train_size=0.35, random_state=10,shuffle = True)\n",
    "\n",
    "# on 35% training\n",
    "DTree2 = DecisionTreeClassifier(min_samples_split=3,max_depth=5,\n",
    "                                min_samples_leaf=9,random_state=20)\n",
    "DTree2.fit(X_train,y_train)\n",
    "DT_test_pred = DTree2.predict(X_test)\n",
    "DT_train_pred = DTree2.predict(X_train)\n",
    "\n",
    "# 35% training\n",
    "resubstitution_error_tree2 = (1-metrics.accuracy_score(y_train, DT_train_pred))*100\n",
    "\n",
    "generalization_error_tree2 = (1 - metrics.accuracy_score(y_test, DT_test_pred)) * 100\n",
    "\n",
    "print resubstitution_error_tree2, generalization_error_tree2\n",
    "\n",
    "# on 35% training\n",
    "NB = GaussianNB()\n",
    "NB.fit(X_train, y_train)\n",
    "NB_train_pre = NB.predict(X_train)\n",
    "NB_test_pre = NB.predict(X_test)\n",
    "\n",
    "# 35% training\n",
    "resubstitution_error_NB2 = (1-metrics.accuracy_score(y_train, NB_train_pre))*100\n",
    "\n",
    "generalization_error_NB2 = (1 - metrics.accuracy_score(y_test, NB_test_pre)) * 100\n",
    "\n",
    "print resubstitution_error_NB2, generalization_error_NB2"
   ]
  },
  {
   "cell_type": "code",
   "execution_count": 1221,
   "metadata": {},
   "outputs": [
    {
     "name": "stdout",
     "output_type": "stream",
     "text": [
      "31.98887343532685 45.11363636363637\n",
      "44.92350486787204 46.02272727272727\n"
     ]
    }
   ],
   "source": [
    "# split 45% for training \n",
    "for i in range(30):\n",
    "    X_train, X_test, y_train, y_test = train_test_split(X, y, train_size=0.45, random_state=20,shuffle = True)\n",
    "\n",
    "# 45% training \n",
    "DTree3 = DecisionTreeClassifier(min_samples_split=3,max_depth=5,\n",
    "                                min_samples_leaf=9,random_state=30)\n",
    "DTree3.fit(X_train,y_train)\n",
    "DT_test_pred = DTree3.predict(X_test)\n",
    "DT_train_pred = DTree3.predict(X_train)\n",
    "\n",
    "# 45% training\n",
    "resubstitution_error_tree3 = (1-metrics.accuracy_score(y_train, DT_train_pred))*100\n",
    "\n",
    "generalization_error_tree3 = (1 - metrics.accuracy_score(y_test, DT_test_pred)) * 100\n",
    "\n",
    "print resubstitution_error_tree3, generalization_error_tree3\n",
    "\n",
    "# on 45% training\n",
    "NB = GaussianNB()\n",
    "NB.fit(X_train, y_train)\n",
    "NB_train_pre = NB.predict(X_train)\n",
    "NB_test_pre = NB.predict(X_test)\n",
    "\n",
    "# 45% training\n",
    "resubstitution_error_NB3 = (1-metrics.accuracy_score(y_train, NB_train_pre))*100\n",
    "\n",
    "generalization_error_NB3 = (1 - metrics.accuracy_score(y_test, NB_test_pre)) * 100\n",
    "\n",
    "print resubstitution_error_NB3, generalization_error_NB3"
   ]
  },
  {
   "cell_type": "code",
   "execution_count": 1222,
   "metadata": {},
   "outputs": [
    {
     "name": "stdout",
     "output_type": "stream",
     "text": [
      "35.72241183162684 41.94444444444444\n",
      "45.05119453924915 49.02777777777778\n"
     ]
    }
   ],
   "source": [
    "# split 55% for training \n",
    "for i in range(30):\n",
    "    X_train, X_test, y_train, y_test = train_test_split(X, y, train_size=0.55, random_state=30,shuffle = True)\n",
    "\n",
    "# 55% training \n",
    "DTree4 = DecisionTreeClassifier(min_samples_split=3,max_depth=5,\n",
    "                                min_samples_leaf=9,random_state=40)\n",
    "DTree4.fit(X_train,y_train)\n",
    "DT_test_pred = DTree4.predict(X_test)\n",
    "DT_train_pred = DTree4.predict(X_train)\n",
    "\n",
    "# 55% training\n",
    "resubstitution_error_tree4 = (1-metrics.accuracy_score(y_train, DT_train_pred))*100\n",
    "\n",
    "generalization_error_tree4 = (1 - metrics.accuracy_score(y_test, DT_test_pred)) * 100\n",
    "print resubstitution_error_tree4, generalization_error_tree4\n",
    "\n",
    "# on 55% training\n",
    "NB = GaussianNB()\n",
    "NB.fit(X_train, y_train)\n",
    "NB_train_pre = NB.predict(X_train)\n",
    "NB_test_pre = NB.predict(X_test)\n",
    "\n",
    "# 55% training\n",
    "resubstitution_error_NB4 = (1-metrics.accuracy_score(y_train, NB_train_pre))*100\n",
    "\n",
    "generalization_error_NB4 = (1 - metrics.accuracy_score(y_test, NB_test_pre)) * 100\n",
    "\n",
    "print resubstitution_error_NB4, generalization_error_NB4"
   ]
  },
  {
   "cell_type": "code",
   "execution_count": 1223,
   "metadata": {},
   "outputs": [
    {
     "name": "stdout",
     "output_type": "stream",
     "text": [
      "32.33878729547642 41.785714285714285\n",
      "44.369586140519736 44.64285714285714\n"
     ]
    }
   ],
   "source": [
    "# split 65% for training \n",
    "for i in range(30):\n",
    "    X_train, X_test, y_train, y_test = train_test_split(X, y, train_size=0.65, random_state=40,shuffle = True)\n",
    "\n",
    "# 65% training \n",
    "DTree5 = DecisionTreeClassifier(min_samples_split=3,max_depth=5,\n",
    "                                min_samples_leaf=9,random_state=50)\n",
    "DTree5.fit(X_train,y_train)\n",
    "DT_test_pred = DTree5.predict(X_test)\n",
    "DT_train_pred = DTree5.predict(X_train)\n",
    "\n",
    "# 65% training\n",
    "resubstitution_error_tree5 = (1-metrics.accuracy_score(y_train, DT_train_pred))*100\n",
    "\n",
    "generalization_error_tree5 = (1 - metrics.accuracy_score(y_test, DT_test_pred)) * 100\n",
    "\n",
    "print resubstitution_error_tree5, generalization_error_tree5\n",
    "\n",
    "# 65% training \n",
    "NB = GaussianNB()\n",
    "NB.fit(X_train, y_train)\n",
    "NB_train_pre = NB.predict(X_train)\n",
    "NB_test_pre = NB.predict(X_test)\n",
    "\n",
    "# 65% training\n",
    "resubstitution_error_NB5 = (1-metrics.accuracy_score(y_train, NB_train_pre))*100\n",
    "\n",
    "generalization_error_NB5 = (1 - metrics.accuracy_score(y_test, NB_test_pre)) * 100\n",
    "\n",
    "print resubstitution_error_NB5, generalization_error_NB5"
   ]
  },
  {
   "cell_type": "code",
   "execution_count": 1224,
   "metadata": {},
   "outputs": [
    {
     "name": "stdout",
     "output_type": "stream",
     "text": [
      "36.19683069224353 47.75\n",
      "43.45287739783152 43.25\n"
     ]
    }
   ],
   "source": [
    "# split 75% for training \n",
    "for i in range(30):\n",
    "    X_train, X_test, y_train, y_test = train_test_split(X, y, train_size=0.75, random_state=50,shuffle = True)\n",
    "\n",
    "# 75% training \n",
    "DTree6 = DecisionTreeClassifier(min_samples_split=3,max_depth=5,\n",
    "                                min_samples_leaf=9,random_state=60)\n",
    "DTree6.fit(X_train,y_train)\n",
    "DT_test_pred = DTree6.predict(X_test)\n",
    "DT_train_pred = DTree6.predict(X_train)\n",
    "\n",
    "# 75% training\n",
    "resubstitution_error_tree6 = (1-metrics.accuracy_score(y_train, DT_train_pred))*100\n",
    "\n",
    "generalization_error_tree6 = (1 - metrics.accuracy_score(y_test, DT_test_pred)) * 100\n",
    "\n",
    "print resubstitution_error_tree6, generalization_error_tree6\n",
    "\n",
    "# 75% training \n",
    "NB = GaussianNB()\n",
    "NB.fit(X_train, y_train)\n",
    "NB_train_pre = NB.predict(X_train)\n",
    "NB_test_pre = NB.predict(X_test)\n",
    "\n",
    "# 75% training\n",
    "resubstitution_error_NB6 = (1-metrics.accuracy_score(y_train, NB_train_pre))*100\n",
    "\n",
    "generalization_error_NB6 = (1 - metrics.accuracy_score(y_test, NB_test_pre)) * 100\n",
    "\n",
    "print resubstitution_error_NB6, generalization_error_NB6"
   ]
  },
  {
   "cell_type": "code",
   "execution_count": 1227,
   "metadata": {},
   "outputs": [
    {
     "name": "stdout",
     "output_type": "stream",
     "text": [
      "33.627667402501835 36.25000000000001\n",
      "43.34069168506255 41.25\n"
     ]
    }
   ],
   "source": [
    "# split 85% for training \n",
    "for i in range(30):\n",
    "    X_train, X_test, y_train, y_test = train_test_split(X, y, train_size=0.85, random_state=60,shuffle = True)\n",
    "\n",
    "# 85% training \n",
    "DTree7 = DecisionTreeClassifier(min_samples_split=3,max_depth=5,\n",
    "                                min_samples_leaf=9,random_state=70)\n",
    "DTree7.fit(X_train,y_train)\n",
    "DT_test_pred = DTree7.predict(X_test)\n",
    "DT_train_pred = DTree7.predict(X_train)\n",
    "\n",
    "# 85% training\n",
    "resubstitution_error_tree7 = (1-metrics.accuracy_score(y_train, DT_train_pred))*100\n",
    "\n",
    "generalization_error_tree7 = (1 - metrics.accuracy_score(y_test, DT_test_pred)) * 100\n",
    "\n",
    "print resubstitution_error_tree7, generalization_error_tree7\n",
    "\n",
    "# 85% training \n",
    "NB = GaussianNB()\n",
    "NB.fit(X_train, y_train)\n",
    "NB_train_pre = NB.predict(X_train)\n",
    "NB_test_pre = NB.predict(X_test)\n",
    "\n",
    "# 85% training\n",
    "resubstitution_error_NB7 = (1-metrics.accuracy_score(y_train, NB_train_pre))*100\n",
    "\n",
    "generalization_error_NB7 = (1 - metrics.accuracy_score(y_test, NB_test_pre)) * 100\n",
    "\n",
    "print resubstitution_error_NB7, generalization_error_NB7"
   ]
  },
  {
   "cell_type": "code",
   "execution_count": 1228,
   "metadata": {
    "collapsed": true
   },
   "outputs": [],
   "source": [
    "resubstitution_error_tree = []\n",
    "resubstitution_error_tree.extend((resubstitution_error_tree1,resubstitution_error_tree2,\n",
    "                                 resubstitution_error_tree3,resubstitution_error_tree4,\n",
    "                                 resubstitution_error_tree5,resubstitution_error_tree6,\n",
    "                                 resubstitution_error_tree7))\n",
    "resubstitution_error_NB = []\n",
    "resubstitution_error_NB.extend((resubstitution_error_NB1,resubstitution_error_NB2,\n",
    "                                 resubstitution_error_NB3,resubstitution_error_NB4,\n",
    "                                 resubstitution_error_NB5,resubstitution_error_NB6,\n",
    "                                 resubstitution_error_NB7))\n",
    "\n",
    "generalization_error_tree = []\n",
    "generalization_error_NB = []\n",
    "\n",
    "generalization_error_tree.extend((generalization_error_tree1,generalization_error_tree2,\n",
    "                                 generalization_error_tree3,generalization_error_tree4,\n",
    "                                 generalization_error_tree5,generalization_error_tree6,\n",
    "                                 generalization_error_tree7))\n",
    "generalization_error_NB.extend((generalization_error_NB1,generalization_error_NB2,\n",
    "                               generalization_error_NB3,generalization_error_NB4,\n",
    "                               generalization_error_NB5,generalization_error_NB6,\n",
    "                               generalization_error_NB7))"
   ]
  },
  {
   "cell_type": "code",
   "execution_count": 1229,
   "metadata": {},
   "outputs": [
    {
     "data": {
      "image/png": "[encoded data removed]",
      "text/plain": [
       "<matplotlib.figure.Figure at 0x117157810>"
      ]
     },
     "metadata": {},
     "output_type": "display_data"
    }
   ],
   "source": [
    "x = range(25,90,10)\n",
    "\n",
    "plt.xlabel(\"Percentage of Training set split\")\n",
    "plt.ylabel(\"Error Rates\")\n",
    "plt.title(\"Wine Quality Red\")\n",
    "plt.plot(x, resubstitution_error_tree, label = \"resubstitution_error_tree\")\n",
    "plt.plot(x, resubstitution_error_NB, label = \"resubstitution_error_NB\")\n",
    "plt.plot(x, generalization_error_tree, label = \"generalization_error_tree\")\n",
    "plt.plot(x, generalization_error_NB, label = \"generalization_error_NB\")\n",
    "plt.legend(loc='center left', bbox_to_anchor=(1, 0.5))\n",
    "plt.show()"
   ]
  },
  {
   "cell_type": "markdown",
   "metadata": {},
   "source": [
    "### Extra credit on problem 4"
   ]
  },
  {
   "cell_type": "code",
   "execution_count": 1162,
   "metadata": {},
   "outputs": [],
   "source": [
    "y = dfwine['quality']#.values\n",
    "X = dfwine.drop('quality', axis = 1)#.values\n",
    "\n",
    "X_train, X_test, y_train, y_test = train_test_split(X, y, test_size=0.34, random_state=42,shuffle = True)\n",
    "\n",
    "# normalized the data\n",
    "scaler = StandardScaler()\n",
    "scaler.fit(X_train)\n",
    "X_train = scaler.transform(X_train)\n",
    "X_test = scaler.transform(X_test)"
   ]
  },
  {
   "cell_type": "code",
   "execution_count": 1047,
   "metadata": {},
   "outputs": [
    {
     "name": "stderr",
     "output_type": "stream",
     "text": [
      "/anaconda2/lib/python2.7/site-packages/sklearn/model_selection/_split.py:605: Warning: The least populated class in y has only 8 members, which is too few. The minimum number of members in any class cannot be less than n_splits=10.\n",
      "  % (min_groups, self.n_splits)), Warning)\n"
     ]
    },
    {
     "data": {
      "text/plain": [
       "{'criterion': 'gini',\n",
       " 'max_depth': 5,\n",
       " 'min_samples_leaf': 9,\n",
       " 'min_samples_split': 3}"
      ]
     },
     "execution_count": 1047,
     "metadata": {},
     "output_type": "execute_result"
    }
   ],
   "source": [
    "wine_tree = DecisionTreeClassifier()\n",
    "\n",
    "param_grid = {'criterion':['gini','entropy'],'max_depth': np.arange(2, 10), \n",
    "              'min_samples_split':np.arange(2,10),'min_samples_leaf':np.arange(2,10)}\n",
    "gs_tree = GridSearchCV(wine_tree, param_grid, cv=10)\n",
    "gs_tree.fit(X_train,y_train)\n",
    "gs_tree.best_params_"
   ]
  },
  {
   "cell_type": "code",
   "execution_count": 1163,
   "metadata": {},
   "outputs": [
    {
     "data": {
      "image/png": "[encoded data removed]",
      "text/plain": [
       "<matplotlib.figure.Figure at 0x119dab310>"
      ]
     },
     "metadata": {},
     "output_type": "display_data"
    }
   ],
   "source": [
    "train_error = []\n",
    "test_error = []\n",
    "\n",
    "max_dep = range(1,5)\n",
    "\n",
    "for md in max_dep:\n",
    "    tree = DecisionTreeClassifier(max_depth=md,random_state=0)\n",
    "    \n",
    "    bagging = BaggingClassifier(base_estimator=tree,random_state=10)\n",
    "    bagging.fit(X_train,y_train)\n",
    "    bagging_test_pred = bagging.predict(X_test)\n",
    "    bagging_train_pred = bagging.predict(X_train)\n",
    "    \n",
    "    #training_accuracy.append(bagging.score(X_train, y_train))\n",
    "    #test_accuracy.append(bagging.score(X_test, y_test))\n",
    "    \n",
    "    train_error.append((1-bagging.score(X_train, y_train))*100)\n",
    "    test_error.append((1-bagging.score(X_test, y_test))*100)\n",
    "\n",
    "plt.plot(max_dep,train_error, label='Error rate of the training set')\n",
    "plt.plot(max_dep,test_error, label='Error rate of the test set')\n",
    "plt.ylabel('Error Rate')\n",
    "plt.xlabel('Number of trees')\n",
    "plt.title(\"Wine Quality Red\")\n",
    "plt.legend(loc='center left', bbox_to_anchor=(1, 0.5))\n",
    "plt.show()"
   ]
  },
  {
   "cell_type": "markdown",
   "metadata": {},
   "source": [
    "### Banknote data "
   ]
  },
  {
   "cell_type": "code",
   "execution_count": 1233,
   "metadata": {
    "collapsed": true
   },
   "outputs": [],
   "source": [
    "filename = \"/Users/ivy/Desktop/CSC529 /Assignments/HW3/data_banknote_authentication.txt\"\n",
    "columns = [\"variance_of_Wavelet_Transformed_image\",\"skewness_of_Wavelet_Transformed_image\",\n",
    "           \"curtosis_of_Wavelet_Transformed_image\",\"entropy_of_image\",\"class\"]\n",
    "bank = pd.read_csv(filename, header = None, sep=',',names = columns)\n",
    "dfb = bank.copy(deep=True)\n",
    "#df= df.reset_index().values"
   ]
  },
  {
   "cell_type": "code",
   "execution_count": 1234,
   "metadata": {},
   "outputs": [
    {
     "name": "stdout",
     "output_type": "stream",
     "text": [
      "<class 'pandas.core.frame.DataFrame'>\n",
      "RangeIndex: 1372 entries, 0 to 1371\n",
      "Data columns (total 5 columns):\n",
      "variance_of_Wavelet_Transformed_image    1372 non-null float64\n",
      "skewness_of_Wavelet_Transformed_image    1372 non-null float64\n",
      "curtosis_of_Wavelet_Transformed_image    1372 non-null float64\n",
      "entropy_of_image                         1372 non-null float64\n",
      "class                                    1372 non-null int64\n",
      "dtypes: float64(4), int64(1)\n",
      "memory usage: 53.7 KB\n"
     ]
    }
   ],
   "source": [
    "dfb.info()"
   ]
  },
  {
   "cell_type": "code",
   "execution_count": 1235,
   "metadata": {},
   "outputs": [
    {
     "data": {
      "text/plain": [
       "0    762\n",
       "1    610\n",
       "Name: class, dtype: int64"
      ]
     },
     "execution_count": 1235,
     "metadata": {},
     "output_type": "execute_result"
    }
   ],
   "source": [
    "dfb['class'].value_counts()"
   ]
  },
  {
   "cell_type": "code",
   "execution_count": 1236,
   "metadata": {},
   "outputs": [
    {
     "data": {
      "text/plain": [
       "0"
      ]
     },
     "execution_count": 1236,
     "metadata": {},
     "output_type": "execute_result"
    }
   ],
   "source": [
    "dfb.isnull().sum().sum()"
   ]
  },
  {
   "cell_type": "code",
   "execution_count": 1237,
   "metadata": {
    "collapsed": true
   },
   "outputs": [],
   "source": [
    "y = dfb['class']#.values\n",
    "X = dfb.drop('class', axis = 1)#.values"
   ]
  },
  {
   "cell_type": "code",
   "execution_count": 1238,
   "metadata": {},
   "outputs": [
    {
     "name": "stdout",
     "output_type": "stream",
     "text": [
      "0.8746355685131157 4.081632653061229\n",
      "16.034985422740522 16.034985422740522\n"
     ]
    }
   ],
   "source": [
    "# split 25% for training \n",
    "for i in range(30):\n",
    "    X_train, X_test, y_train, y_test = train_test_split(X, y, train_size=0.25, random_state=10,shuffle = True)\n",
    "\n",
    "# on 25% training\n",
    "DTree1 = DecisionTreeClassifier(min_samples_split=2,max_depth=9,\n",
    "                                min_samples_leaf=2,random_state=10)\n",
    "DTree1.fit(X_train,y_train)\n",
    "DT_test_pred = DTree1.predict(X_test)\n",
    "DT_train_pred = DTree1.predict(X_train)\n",
    "\n",
    "# 25% training\n",
    "resubstitution_error_tree1 = (1-metrics.accuracy_score(y_train, DT_train_pred))*100\n",
    "\n",
    "generalization_error_tree1 = (1 - metrics.accuracy_score(y_test, DT_test_pred)) * 100\n",
    "\n",
    "print resubstitution_error_tree1, generalization_error_tree1\n",
    "\n",
    "# on 25% training\n",
    "NB = GaussianNB()\n",
    "NB.fit(X_train, y_train)\n",
    "NB_train_pre = NB.predict(X_train)\n",
    "NB_test_pre = NB.predict(X_test)\n",
    "\n",
    "# 25% training\n",
    "resubstitution_error_NB1 = (1-metrics.accuracy_score(y_train, NB_train_pre))*100\n",
    "\n",
    "generalization_error_NB1 = (1 - metrics.accuracy_score(y_test, NB_test_pre)) * 100\n",
    "\n",
    "print resubstitution_error_NB1, generalization_error_NB1"
   ]
  },
  {
   "cell_type": "code",
   "execution_count": 1239,
   "metadata": {},
   "outputs": [
    {
     "name": "stdout",
     "output_type": "stream",
     "text": [
      "0.4166666666666652 3.363228699551568\n",
      "15.625 14.910313901345296\n"
     ]
    }
   ],
   "source": [
    "# split 35% for training \n",
    "for i in range(30):\n",
    "    X_train, X_test, y_train, y_test = train_test_split(X, y, train_size=0.35, random_state=10,shuffle = True)\n",
    "\n",
    "# on 35% training\n",
    "DTree2 = DecisionTreeClassifier(min_samples_split=2,max_depth=9,\n",
    "                                min_samples_leaf=2,random_state=20)\n",
    "DTree2.fit(X_train,y_train)\n",
    "DT_test_pred = DTree2.predict(X_test)\n",
    "DT_train_pred = DTree2.predict(X_train)\n",
    "\n",
    "# 35% training\n",
    "resubstitution_error_tree2 = (1-metrics.accuracy_score(y_train, DT_train_pred))*100\n",
    "\n",
    "generalization_error_tree2 = (1 - metrics.accuracy_score(y_test, DT_test_pred)) * 100\n",
    "\n",
    "print resubstitution_error_tree2, generalization_error_tree2\n",
    "\n",
    "# on 35% training\n",
    "NB = GaussianNB()\n",
    "NB.fit(X_train, y_train)\n",
    "NB_train_pre = NB.predict(X_train)\n",
    "NB_test_pre = NB.predict(X_test)\n",
    "\n",
    "# 35% training\n",
    "resubstitution_error_NB2 = (1-metrics.accuracy_score(y_train, NB_train_pre))*100\n",
    "\n",
    "generalization_error_NB2 = (1 - metrics.accuracy_score(y_test, NB_test_pre)) * 100\n",
    "\n",
    "print resubstitution_error_NB2, generalization_error_NB2"
   ]
  },
  {
   "cell_type": "code",
   "execution_count": 1240,
   "metadata": {},
   "outputs": [
    {
     "name": "stdout",
     "output_type": "stream",
     "text": [
      "0.32414910858995505 1.7218543046357615\n",
      "16.369529983792543 14.966887417218544\n"
     ]
    }
   ],
   "source": [
    "# split 45% for training \n",
    "for i in range(30):\n",
    "    X_train, X_test, y_train, y_test = train_test_split(X, y, train_size=0.45, random_state=20,shuffle = True)\n",
    "\n",
    "# 45% training \n",
    "DTree3 = DecisionTreeClassifier(min_samples_split=2,max_depth=9,\n",
    "                                min_samples_leaf=2,random_state=30)\n",
    "DTree3.fit(X_train,y_train)\n",
    "DT_test_pred = DTree3.predict(X_test)\n",
    "DT_train_pred = DTree3.predict(X_train)\n",
    "\n",
    "# 45% training\n",
    "resubstitution_error_tree3 = (1-metrics.accuracy_score(y_train, DT_train_pred))*100\n",
    "\n",
    "generalization_error_tree3 = (1 - metrics.accuracy_score(y_test, DT_test_pred)) * 100\n",
    "\n",
    "print resubstitution_error_tree3, generalization_error_tree3\n",
    "\n",
    "# on 45% training\n",
    "NB = GaussianNB()\n",
    "NB.fit(X_train, y_train)\n",
    "NB_train_pre = NB.predict(X_train)\n",
    "NB_test_pre = NB.predict(X_test)\n",
    "\n",
    "# 45% training\n",
    "resubstitution_error_NB3 = (1-metrics.accuracy_score(y_train, NB_train_pre))*100\n",
    "\n",
    "generalization_error_NB3 = (1 - metrics.accuracy_score(y_test, NB_test_pre)) * 100\n",
    "\n",
    "print resubstitution_error_NB3, generalization_error_NB3"
   ]
  },
  {
   "cell_type": "code",
   "execution_count": 1241,
   "metadata": {},
   "outputs": [
    {
     "name": "stdout",
     "output_type": "stream",
     "text": [
      "0.2652519893899252 3.7216828478964348\n",
      "15.251989389920428 16.34304207119741\n"
     ]
    }
   ],
   "source": [
    "# split 55% for training \n",
    "for i in range(30):\n",
    "    X_train, X_test, y_train, y_test = train_test_split(X, y, train_size=0.55, random_state=30,shuffle = True)\n",
    "\n",
    "# 55% training \n",
    "DTree4 = DecisionTreeClassifier(min_samples_split=2,max_depth=9,\n",
    "                                min_samples_leaf=2,random_state=40)\n",
    "DTree4.fit(X_train,y_train)\n",
    "DT_test_pred = DTree4.predict(X_test)\n",
    "DT_train_pred = DTree4.predict(X_train)\n",
    "\n",
    "# 55% training\n",
    "resubstitution_error_tree4 = (1-metrics.accuracy_score(y_train, DT_train_pred))*100\n",
    "\n",
    "generalization_error_tree4 = (1 - metrics.accuracy_score(y_test, DT_test_pred)) * 100\n",
    "print resubstitution_error_tree4, generalization_error_tree4\n",
    "\n",
    "# on 55% training\n",
    "NB = GaussianNB()\n",
    "NB.fit(X_train, y_train)\n",
    "NB_train_pre = NB.predict(X_train)\n",
    "NB_test_pre = NB.predict(X_test)\n",
    "\n",
    "# 55% training\n",
    "resubstitution_error_NB4 = (1-metrics.accuracy_score(y_train, NB_train_pre))*100\n",
    "\n",
    "generalization_error_NB4 = (1 - metrics.accuracy_score(y_test, NB_test_pre)) * 100\n",
    "\n",
    "print resubstitution_error_NB4, generalization_error_NB4"
   ]
  },
  {
   "cell_type": "code",
   "execution_count": 1242,
   "metadata": {},
   "outputs": [
    {
     "name": "stdout",
     "output_type": "stream",
     "text": [
      "0.11223344556677839 2.9106029106029108\n",
      "14.590347923681257 16.216216216216218\n"
     ]
    }
   ],
   "source": [
    "# split 65% for training \n",
    "for i in range(30):\n",
    "    X_train, X_test, y_train, y_test = train_test_split(X, y, train_size=0.65, random_state=40,shuffle = True)\n",
    "\n",
    "# 65% training \n",
    "DTree5 = DecisionTreeClassifier(min_samples_split=2,max_depth=9,\n",
    "                                min_samples_leaf=2,random_state=50)\n",
    "DTree5.fit(X_train,y_train)\n",
    "DT_test_pred = DTree5.predict(X_test)\n",
    "DT_train_pred = DTree5.predict(X_train)\n",
    "\n",
    "# 65% training\n",
    "resubstitution_error_tree5 = (1-metrics.accuracy_score(y_train, DT_train_pred))*100\n",
    "\n",
    "generalization_error_tree5 = (1 - metrics.accuracy_score(y_test, DT_test_pred)) * 100\n",
    "\n",
    "print resubstitution_error_tree5, generalization_error_tree5\n",
    "\n",
    "# 65% training \n",
    "NB = GaussianNB()\n",
    "NB.fit(X_train, y_train)\n",
    "NB_train_pre = NB.predict(X_train)\n",
    "NB_test_pre = NB.predict(X_test)\n",
    "\n",
    "# 65% training\n",
    "resubstitution_error_NB5 = (1-metrics.accuracy_score(y_train, NB_train_pre))*100\n",
    "\n",
    "generalization_error_NB5 = (1 - metrics.accuracy_score(y_test, NB_test_pre)) * 100\n",
    "\n",
    "print resubstitution_error_NB5, generalization_error_NB5"
   ]
  },
  {
   "cell_type": "code",
   "execution_count": 1243,
   "metadata": {},
   "outputs": [
    {
     "name": "stdout",
     "output_type": "stream",
     "text": [
      "0.38872691933916625 2.0408163265306145\n",
      "16.034985422740522 16.034985422740522\n"
     ]
    }
   ],
   "source": [
    "# split 75% for training \n",
    "for i in range(30):\n",
    "    X_train, X_test, y_train, y_test = train_test_split(X, y, train_size=0.75, random_state=50,shuffle = True)\n",
    "\n",
    "# 75% training \n",
    "DTree6 = DecisionTreeClassifier(min_samples_split=2,max_depth=9,\n",
    "                                min_samples_leaf=2,random_state=60)\n",
    "DTree6.fit(X_train,y_train)\n",
    "DT_test_pred = DTree6.predict(X_test)\n",
    "DT_train_pred = DTree6.predict(X_train)\n",
    "\n",
    "# 75% training\n",
    "resubstitution_error_tree6 = (1-metrics.accuracy_score(y_train, DT_train_pred))*100\n",
    "\n",
    "generalization_error_tree6 = (1 - metrics.accuracy_score(y_test, DT_test_pred)) * 100\n",
    "\n",
    "print resubstitution_error_tree6, generalization_error_tree6\n",
    "\n",
    "# 75% training \n",
    "NB = GaussianNB()\n",
    "NB.fit(X_train, y_train)\n",
    "NB_train_pre = NB.predict(X_train)\n",
    "NB_test_pre = NB.predict(X_test)\n",
    "\n",
    "# 75% training\n",
    "resubstitution_error_NB6 = (1-metrics.accuracy_score(y_train, NB_train_pre))*100\n",
    "\n",
    "generalization_error_NB6 = (1 - metrics.accuracy_score(y_test, NB_test_pre)) * 100\n",
    "\n",
    "print resubstitution_error_NB6, generalization_error_NB6"
   ]
  },
  {
   "cell_type": "code",
   "execution_count": 1244,
   "metadata": {},
   "outputs": [
    {
     "name": "stdout",
     "output_type": "stream",
     "text": [
      "0.34305317324184736 0.9708737864077666\n",
      "16.12349914236707 12.135922330097081\n"
     ]
    }
   ],
   "source": [
    "# split 85% for training \n",
    "for i in range(30):\n",
    "    X_train, X_test, y_train, y_test = train_test_split(X, y, train_size=0.85, random_state=60,shuffle = True)\n",
    "\n",
    "# 85% training \n",
    "DTree7 = DecisionTreeClassifier(min_samples_split=2,max_depth=9,\n",
    "                                min_samples_leaf=2,random_state=70)\n",
    "DTree7.fit(X_train,y_train)\n",
    "DT_test_pred = DTree7.predict(X_test)\n",
    "DT_train_pred = DTree7.predict(X_train)\n",
    "\n",
    "# 85% training\n",
    "resubstitution_error_tree7 = (1-metrics.accuracy_score(y_train, DT_train_pred))*100\n",
    "\n",
    "generalization_error_tree7 = (1 - metrics.accuracy_score(y_test, DT_test_pred)) * 100\n",
    "\n",
    "print resubstitution_error_tree7, generalization_error_tree7\n",
    "\n",
    "# 85% training \n",
    "NB = GaussianNB()\n",
    "NB.fit(X_train, y_train)\n",
    "NB_train_pre = NB.predict(X_train)\n",
    "NB_test_pre = NB.predict(X_test)\n",
    "\n",
    "# 85% training\n",
    "resubstitution_error_NB7 = (1-metrics.accuracy_score(y_train, NB_train_pre))*100\n",
    "\n",
    "generalization_error_NB7 = (1 - metrics.accuracy_score(y_test, NB_test_pre)) * 100\n",
    "\n",
    "print resubstitution_error_NB7, generalization_error_NB7"
   ]
  },
  {
   "cell_type": "code",
   "execution_count": 1245,
   "metadata": {
    "collapsed": true
   },
   "outputs": [],
   "source": [
    "resubstitution_error_tree = []\n",
    "resubstitution_error_tree.extend((resubstitution_error_tree1,resubstitution_error_tree2,\n",
    "                                 resubstitution_error_tree3,resubstitution_error_tree4,\n",
    "                                 resubstitution_error_tree5,resubstitution_error_tree6,\n",
    "                                 resubstitution_error_tree7))\n",
    "resubstitution_error_NB = []\n",
    "resubstitution_error_NB.extend((resubstitution_error_NB1,resubstitution_error_NB2,\n",
    "                                 resubstitution_error_NB3,resubstitution_error_NB4,\n",
    "                                 resubstitution_error_NB5,resubstitution_error_NB6,\n",
    "                                 resubstitution_error_NB7))\n",
    "\n",
    "generalization_error_tree = []\n",
    "generalization_error_NB = []\n",
    "\n",
    "generalization_error_tree.extend((generalization_error_tree1,generalization_error_tree2,\n",
    "                                 generalization_error_tree3,generalization_error_tree4,\n",
    "                                 generalization_error_tree5,generalization_error_tree6,\n",
    "                                 generalization_error_tree7))\n",
    "generalization_error_NB.extend((generalization_error_NB1,generalization_error_NB2,\n",
    "                               generalization_error_NB3,generalization_error_NB4,\n",
    "                               generalization_error_NB5,generalization_error_NB6,\n",
    "                               generalization_error_NB7))"
   ]
  },
  {
   "cell_type": "code",
   "execution_count": 1246,
   "metadata": {},
   "outputs": [
    {
     "data": {
      "image/png": "[encoded data removed]",
      "text/plain": [
       "<matplotlib.figure.Figure at 0x117157490>"
      ]
     },
     "metadata": {},
     "output_type": "display_data"
    }
   ],
   "source": [
    "x = range(25,90,10)\n",
    "\n",
    "plt.xlabel(\"Percentage of Training set split\")\n",
    "plt.ylabel(\"Error Rates\")\n",
    "plt.title(\"Banknote\")\n",
    "plt.plot(x, resubstitution_error_tree, label = \"resubstitution_error_tree\")\n",
    "plt.plot(x, resubstitution_error_NB, label = \"resubstitution_error_NB\")\n",
    "plt.plot(x, generalization_error_tree, label = \"generalization_error_tree\")\n",
    "plt.plot(x, generalization_error_NB, label = \"generalization_error_NB\")\n",
    "plt.legend(loc='center left', bbox_to_anchor=(1, 0.5))\n",
    "plt.show()"
   ]
  },
  {
   "cell_type": "markdown",
   "metadata": {},
   "source": [
    "### Extra credit for problem 4"
   ]
  },
  {
   "cell_type": "code",
   "execution_count": 1195,
   "metadata": {
    "collapsed": true
   },
   "outputs": [],
   "source": [
    "X_train, X_test, y_train, y_test = train_test_split(X, y, test_size=0.34, random_state=42,shuffle = True)\n",
    "\n",
    "# normalized the data\n",
    "scaler = StandardScaler()\n",
    "scaler.fit(X_train)\n",
    "X_train = scaler.transform(X_train)\n",
    "X_test = scaler.transform(X_test)"
   ]
  },
  {
   "cell_type": "code",
   "execution_count": 1196,
   "metadata": {},
   "outputs": [
    {
     "data": {
      "text/plain": [
       "{'criterion': 'entropy',\n",
       " 'max_depth': 9,\n",
       " 'min_samples_leaf': 2,\n",
       " 'min_samples_split': 2}"
      ]
     },
     "execution_count": 1196,
     "metadata": {},
     "output_type": "execute_result"
    }
   ],
   "source": [
    "bank_tree = DecisionTreeClassifier()\n",
    "\n",
    "param_grid = {'criterion':['gini','entropy'],'max_depth': np.arange(2, 10), \n",
    "              'min_samples_split':np.arange(2,10),'min_samples_leaf':np.arange(2,10)}\n",
    "gs_tree = GridSearchCV(bank_tree, param_grid, cv=10)\n",
    "gs_tree.fit(X_train,y_train)\n",
    "gs_tree.best_params_"
   ]
  },
  {
   "cell_type": "code",
   "execution_count": 1201,
   "metadata": {},
   "outputs": [
    {
     "data": {
      "image/png": "[encoded data removed]",
      "text/plain": [
       "<matplotlib.figure.Figure at 0x11687e350>"
      ]
     },
     "metadata": {},
     "output_type": "display_data"
    }
   ],
   "source": [
    "train_error = []\n",
    "test_error = []\n",
    "\n",
    "max_dep = range(1,10)\n",
    "\n",
    "for md in max_dep:\n",
    "    tree = DecisionTreeClassifier(max_depth=md,random_state=0)\n",
    "    \n",
    "    bagging = BaggingClassifier(base_estimator=tree,random_state=10)\n",
    "    bagging.fit(X_train,y_train)\n",
    "    bagging_test_pred = bagging.predict(X_test)\n",
    "    bagging_train_pred = bagging.predict(X_train)\n",
    "    \n",
    "    #training_accuracy.append(bagging.score(X_train, y_train))\n",
    "    #test_accuracy.append(bagging.score(X_test, y_test))\n",
    "    \n",
    "    train_error.append((1-bagging.score(X_train, y_train))*100)\n",
    "    test_error.append((1-bagging.score(X_test, y_test))*100)\n",
    "\n",
    "plt.plot(max_dep,train_error, label='Error rate of the training set')\n",
    "plt.plot(max_dep,test_error, label='Error rate of the test set')\n",
    "plt.ylabel('Error Rate')\n",
    "plt.xlabel('Number of trees')\n",
    "plt.title(\"Bank Note\")\n",
    "plt.legend(loc='center left', bbox_to_anchor=(1, 0.5))\n",
    "plt.show()"
   ]
  },
  {
   "cell_type": "code",
   "execution_count": null,
   "metadata": {
    "collapsed": true
   },
   "outputs": [],
   "source": []
  }
 ],
 "metadata": {
  "kernelspec": {
   "display_name": "Python 3",
   "language": "python",
   "name": "python3"
  },
  "language_info": {
   "codemirror_mode": {
    "name": "ipython",
    "version": 3
   },
   "file_extension": ".py",
   "mimetype": "text/x-python",
   "name": "python",
   "nbconvert_exporter": "python",
   "pygments_lexer": "ipython3",
   "version": "3.6.4"
  }
 },
 "nbformat": 4,
 "nbformat_minor": 2
}
